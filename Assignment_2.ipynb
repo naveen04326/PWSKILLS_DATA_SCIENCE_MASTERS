{
 "cells": [
  {
   "cell_type": "code",
   "execution_count": null,
   "id": "2e0f32b7-1606-4c50-bddb-b8e5057ed707",
   "metadata": {},
   "outputs": [],
   "source": [
    "#Ans 1"
   ]
  },
  {
   "cell_type": "code",
   "execution_count": 19,
   "id": "77243bc2-c569-4515-866b-9eefc6734d6b",
   "metadata": {},
   "outputs": [
    {
     "name": "stdin",
     "output_type": "stream",
     "text": [
      "enter your percentage 92\n"
     ]
    },
    {
     "name": "stdout",
     "output_type": "stream",
     "text": [
      "Grade A \n"
     ]
    }
   ],
   "source": [
    "percent = int (input(\"enter your percentage\"))\n",
    "if percent > 100 : \n",
    "        print(\"enter correct values\")\n",
    "elif percent > 90 and  percent <= 100 :\n",
    "        print (\"Grade A \")\n",
    "elif percent > 80 and percent <= 90 :\n",
    "        print (\"Grade B \")\n",
    "elif percent >= 60 and percent <= 80 :\n",
    "        print (\"Grade C \")\n",
    "elif percent < 60 and percent >= 0 :\n",
    "        print (\"Grade D \")\n",
    "else :\n",
    "        print(\"enter correct values\")   "
   ]
  },
  {
   "cell_type": "code",
   "execution_count": null,
   "id": "8baece50-9799-4ec2-a915-65dd64f0c7bf",
   "metadata": {},
   "outputs": [],
   "source": [
    "#Ans 2"
   ]
  },
  {
   "cell_type": "code",
   "execution_count": 29,
   "id": "19acfa38-f846-497f-a6ca-ea3dd63adda2",
   "metadata": {},
   "outputs": [
    {
     "name": "stdin",
     "output_type": "stream",
     "text": [
      "enter the cost of bike 950000\n"
     ]
    },
    {
     "name": "stdout",
     "output_type": "stream",
     "text": [
      "tax to be paid @ 15% : 142500.0\n"
     ]
    }
   ],
   "source": [
    "Cost_bike = int (input(\"enter the cost of bike\"))\n",
    "if Cost_bike > 100000 : \n",
    "        print(f\"tax to be paid @ 15% : {Cost_bike*0.15}\")\n",
    "elif Cost_bike > 50000 and  Cost_bike <= 100000 :\n",
    "        print(f\"tax to be paid @ 10% : {Cost_bike*0.10}\")\n",
    "elif Cost_bike <= 50000 :\n",
    "        print(f\"tax to be paid @ 5% : {Cost_bike*0.05}\")\n",
    "else :\n",
    "        print(\"Enter correct price of the bike\") "
   ]
  },
  {
   "cell_type": "code",
   "execution_count": null,
   "id": "f2b4a551-356b-4033-9216-0448b060c804",
   "metadata": {},
   "outputs": [],
   "source": [
    "#Ans 3"
   ]
  },
  {
   "cell_type": "code",
   "execution_count": 34,
   "id": "4c3e7d6f-123c-41fe-9cf7-ed3833178b43",
   "metadata": {},
   "outputs": [
    {
     "name": "stdin",
     "output_type": "stream",
     "text": [
      "Enter the name of the city pune\n"
     ]
    },
    {
     "name": "stdout",
     "output_type": "stream",
     "text": [
      "Entered city name not in list\n"
     ]
    }
   ],
   "source": [
    "city_name = str(input(\"Enter the name of the city\")).strip(\" \").capitalize()\n",
    "if city_name == 'Delhi' :\n",
    "    print(\"Monument = RED FORT\")\n",
    "elif city_name == 'Agra' :\n",
    "    print(\"Monument = TAJ MAHAL\")\n",
    "elif city_name == 'Jaipur' :\n",
    "     print(\"Monument = JAL MAHAL\")\n",
    "else :\n",
    "    print(\"Entered city name not in list\")\n"
   ]
  },
  {
   "cell_type": "code",
   "execution_count": null,
   "id": "48f96687-f1c3-4e58-9dbb-db309858dedd",
   "metadata": {},
   "outputs": [],
   "source": [
    "#ans 4"
   ]
  },
  {
   "cell_type": "code",
   "execution_count": 13,
   "id": "7cea58cf-3354-4d1e-a117-6dbcf149bbcb",
   "metadata": {},
   "outputs": [
    {
     "name": "stdout",
     "output_type": "stream",
     "text": [
      " no of times divided by 3 is : 3\n"
     ]
    }
   ],
   "source": [
    "count =0\n",
    "i=0\n",
    "while i <= 10 :\n",
    "    i +=1\n",
    "    if i%3 == 0 :\n",
    "        count +=1\n",
    "    \n",
    "print(f\" no of times divided by 3 is : {count}\")\n",
    "    "
   ]
  },
  {
   "cell_type": "code",
   "execution_count": null,
   "id": "ef4d33a5-6e4e-46ee-bd40-27c648b16dc9",
   "metadata": {},
   "outputs": [],
   "source": [
    "#Ans 5"
   ]
  },
  {
   "cell_type": "markdown",
   "id": "c3f9f37b-83b2-4f3f-aed4-53569897f8bc",
   "metadata": {
    "tags": []
   },
   "source": [
    "# while loop is used for continious iterations untill the desired condition is met.\n",
    "\n",
    "num = 15  \n",
    "  \n",
    "# initializing summation and a counter for iteration  \n",
    "summation = 0  \n",
    "c = 1  \n",
    "  \n",
    "while c <= num: # specifying the condition of the loop  \n",
    "    # begining the code block  \n",
    "    summation = c**2 + summation  \n",
    "    c = c + 1    # incrementing the counter  \n",
    "  \n",
    "# print the final sum  \n",
    "print(\"The sum of squares is\", summation)  "
   ]
  },
  {
   "cell_type": "code",
   "execution_count": null,
   "id": "872b1288-5e1c-431d-adfc-adf57401d005",
   "metadata": {},
   "outputs": [],
   "source": [
    "#Ans 6"
   ]
  },
  {
   "cell_type": "code",
   "execution_count": 15,
   "id": "5188f99a-a555-4968-ad31-b8291938a76a",
   "metadata": {},
   "outputs": [
    {
     "name": "stdout",
     "output_type": "stream",
     "text": [
      "First pattern\n",
      "* \n",
      "* * \n",
      "* * * \n",
      "* * * * \n",
      "* * * * * \n",
      "Second pattern\n",
      "         *\n",
      "        ***\n",
      "       *****\n",
      "      *******\n",
      "     *********\n",
      "    ***********\n",
      "   *************\n",
      "  ***************\n",
      " *****************\n"
     ]
    }
   ],
   "source": [
    "#first pattern\n",
    "print(\"First pattern\")\n",
    "n = 5\n",
    "i = 1\n",
    "while i <= n :\n",
    "    j = 1\n",
    "    while j <= i:\n",
    "        print(\"*\", end = \" \")\n",
    "        j += 1\n",
    "    print()\n",
    "    i += 1\n",
    "    \n",
    "print(\"Second pattern\")\n",
    "i=1 \n",
    "while i<10: \n",
    "    if i==1: \n",
    "        print (' '*(10-i) + '*' )\n",
    "    else: \n",
    "        print (' '*(10-i) + '*'*i + '*'*(i-1) )\n",
    "    i+=1  \n",
    "    \n",
    "\n"
   ]
  },
  {
   "cell_type": "code",
   "execution_count": null,
   "id": "d905e348-5b12-43fb-afed-3e16916d63c5",
   "metadata": {},
   "outputs": [],
   "source": [
    "#Ans 7 & 8"
   ]
  },
  {
   "cell_type": "code",
   "execution_count": 17,
   "id": "92e4ebd6-c3e4-4248-8572-1a393c427989",
   "metadata": {},
   "outputs": [
    {
     "name": "stdin",
     "output_type": "stream",
     "text": [
      "enter number to print reverse 10\n"
     ]
    },
    {
     "name": "stdout",
     "output_type": "stream",
     "text": [
      "10  9  8  7  6  5  4  3  2  1  0  "
     ]
    }
   ],
   "source": [
    "i = 0\n",
    "size = int(input (\"enter number to print reverse\"))\n",
    "while i <= size :\n",
    "    print(size-i ,end = \"  \")\n",
    "    i +=1\n",
    "    "
   ]
  }
 ],
 "metadata": {
  "kernelspec": {
   "display_name": "Python 3 (ipykernel)",
   "language": "python",
   "name": "python3"
  },
  "language_info": {
   "codemirror_mode": {
    "name": "ipython",
    "version": 3
   },
   "file_extension": ".py",
   "mimetype": "text/x-python",
   "name": "python",
   "nbconvert_exporter": "python",
   "pygments_lexer": "ipython3",
   "version": "3.10.8"
  }
 },
 "nbformat": 4,
 "nbformat_minor": 5
}
