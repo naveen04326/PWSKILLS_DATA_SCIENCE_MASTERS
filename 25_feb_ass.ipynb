{
 "cells": [
  {
   "cell_type": "code",
   "execution_count": 3,
   "id": "dcee5dd6-82c0-4c08-bbaa-b80e5fd19454",
   "metadata": {},
   "outputs": [
    {
     "name": "stdout",
     "output_type": "stream",
     "text": [
      "        course_name  duration\n",
      "0      Data Science         2\n",
      "1  Machine Learning         3\n",
      "2          Big Data         6\n",
      "3     Data Engineer         4\n"
     ]
    }
   ],
   "source": [
    "import pandas as pd\n",
    "import datetime\n",
    "course_name = ['Data Science', 'Machine Learning', 'Big Data', 'Data Engineer']\n",
    "\n",
    "duration = [2,3,6,4]\n",
    "\n",
    "df = pd.DataFrame(data = {'course_name' : course_name, 'duration' : duration})\n",
    "\n",
    "print(df)"
   ]
  },
  {
   "cell_type": "code",
   "execution_count": 11,
   "id": "03008017-4e86-4b94-be27-0e0c9d99c523",
   "metadata": {},
   "outputs": [
    {
     "name": "stdout",
     "output_type": "stream",
     "text": [
      "course_name    Machine Learning\n",
      "duration                      3\n",
      "Name: 1, dtype: object\n"
     ]
    }
   ],
   "source": [
    "#Ans 1 : Write a code to print the data present in the second row of the dataframe, df.\n",
    "print(df.loc[1])"
   ]
  },
  {
   "cell_type": "code",
   "execution_count": null,
   "id": "c81fdc34-c570-4f8c-9cf2-cc33ecdc765e",
   "metadata": {},
   "outputs": [],
   "source": [
    "#Ans 2 :difference between the functions loc and iloc in pandas.DataFrame\n",
    "\"\"\"\n",
    "Loc and iloc are two functions in Pandas that are used to slice a data set in a Pandas DataFrame. \n",
    "The function .loc is typically used for label indexing and can access multiple columns,\n",
    "It’s important to use the .loc function with labels when we are using columns. It’s also possible to use an integer index.\n",
    "Ex. = titanic.loc[titanic['Sex']=='male']\n",
    "\n",
    "while .iloc is used for integer indexing\n",
    "The .iloc function is integer position based, but it could also be used with a boolean array. \n",
    "If we want to locate a cell of the data set, we can enter:\n",
    "Ex. = titanic.iloc[0:4,2:5]\n",
    "\n",
    "The main purpose of using .loc and .iloc is to slice the DataFrame in Pandas.\n",
    "Function .loc is primarily used for label indexing, and the .iloc function is mainly used for integer indexing.\n",
    "\"\"\""
   ]
  },
  {
   "cell_type": "code",
   "execution_count": 18,
   "id": "7535717d-264f-4ff8-bb4c-e3727db0de2b",
   "metadata": {},
   "outputs": [
    {
     "name": "stdout",
     "output_type": "stream",
     "text": [
      "        course_name  duration\n",
      "3     Data Engineer         4\n",
      "0      Data Science         2\n",
      "1  Machine Learning         3\n",
      "2          Big Data         6\n",
      "\n",
      "\n",
      "using loc is printing the visible index that is matching\n",
      ": course_name    Big Data\n",
      "duration              6\n",
      "Name: 2, dtype: object\n",
      "\n",
      "\n",
      "using iloc is printing the system generated index that is matching\n",
      ": course_name    Machine Learning\n",
      "duration                      3\n",
      "Name: 1, dtype: object\n"
     ]
    }
   ],
   "source": [
    "reindex = [3,0,1,2]\n",
    "new_df =df.reindex(index=reindex)\n",
    "print(new_df)\n",
    "print(\"\\n\\nusing loc is printing the visible index that is matching\\n:\",new_df.loc[2])\n",
    "print(\"\\n\\nusing iloc is printing the system generated index that is matching\\n:\",new_df.iloc[2])"
   ]
  },
  {
   "cell_type": "code",
   "execution_count": 23,
   "id": "d969f269-da25-45b2-a3dc-e3197dd81a1c",
   "metadata": {},
   "outputs": [
    {
     "data": {
      "text/html": [
       "<div>\n",
       "<style scoped>\n",
       "    .dataframe tbody tr th:only-of-type {\n",
       "        vertical-align: middle;\n",
       "    }\n",
       "\n",
       "    .dataframe tbody tr th {\n",
       "        vertical-align: top;\n",
       "    }\n",
       "\n",
       "    .dataframe thead th {\n",
       "        text-align: right;\n",
       "    }\n",
       "</style>\n",
       "<table border=\"1\" class=\"dataframe\">\n",
       "  <thead>\n",
       "    <tr style=\"text-align: right;\">\n",
       "      <th></th>\n",
       "      <th>column_1</th>\n",
       "      <th>column_2</th>\n",
       "      <th>column_3</th>\n",
       "      <th>column_4</th>\n",
       "      <th>column_5</th>\n",
       "      <th>column_6</th>\n",
       "    </tr>\n",
       "  </thead>\n",
       "  <tbody>\n",
       "    <tr>\n",
       "      <th>1</th>\n",
       "      <td>0.571317</td>\n",
       "      <td>0.030795</td>\n",
       "      <td>0.659706</td>\n",
       "      <td>0.065763</td>\n",
       "      <td>0.950465</td>\n",
       "      <td>0.346167</td>\n",
       "    </tr>\n",
       "    <tr>\n",
       "      <th>2</th>\n",
       "      <td>0.414519</td>\n",
       "      <td>0.389496</td>\n",
       "      <td>0.546223</td>\n",
       "      <td>0.208002</td>\n",
       "      <td>0.521181</td>\n",
       "      <td>0.538321</td>\n",
       "    </tr>\n",
       "    <tr>\n",
       "      <th>3</th>\n",
       "      <td>0.190761</td>\n",
       "      <td>0.771574</td>\n",
       "      <td>0.941583</td>\n",
       "      <td>0.182136</td>\n",
       "      <td>0.468017</td>\n",
       "      <td>0.495257</td>\n",
       "    </tr>\n",
       "    <tr>\n",
       "      <th>4</th>\n",
       "      <td>0.373629</td>\n",
       "      <td>0.435699</td>\n",
       "      <td>0.496129</td>\n",
       "      <td>0.413604</td>\n",
       "      <td>0.789938</td>\n",
       "      <td>0.798201</td>\n",
       "    </tr>\n",
       "    <tr>\n",
       "      <th>5</th>\n",
       "      <td>0.937480</td>\n",
       "      <td>0.916821</td>\n",
       "      <td>0.445054</td>\n",
       "      <td>0.232249</td>\n",
       "      <td>0.689297</td>\n",
       "      <td>0.910108</td>\n",
       "    </tr>\n",
       "    <tr>\n",
       "      <th>6</th>\n",
       "      <td>0.905069</td>\n",
       "      <td>0.654666</td>\n",
       "      <td>0.360017</td>\n",
       "      <td>0.222854</td>\n",
       "      <td>0.139777</td>\n",
       "      <td>0.809960</td>\n",
       "    </tr>\n",
       "  </tbody>\n",
       "</table>\n",
       "</div>"
      ],
      "text/plain": [
       "   column_1  column_2  column_3  column_4  column_5  column_6\n",
       "1  0.571317  0.030795  0.659706  0.065763  0.950465  0.346167\n",
       "2  0.414519  0.389496  0.546223  0.208002  0.521181  0.538321\n",
       "3  0.190761  0.771574  0.941583  0.182136  0.468017  0.495257\n",
       "4  0.373629  0.435699  0.496129  0.413604  0.789938  0.798201\n",
       "5  0.937480  0.916821  0.445054  0.232249  0.689297  0.910108\n",
       "6  0.905069  0.654666  0.360017  0.222854  0.139777  0.809960"
      ]
     },
     "execution_count": 23,
     "metadata": {},
     "output_type": "execute_result"
    }
   ],
   "source": [
    "import pandas as pd\n",
    "\n",
    "import numpy as np\n",
    "\n",
    "columns = ['column_1', 'column_2', 'column_3', 'column_4', 'column_5', 'column_6']\n",
    "\n",
    "indices = [1,2,3,4,5,6]\n",
    "\n",
    "#Creating a dataframe:\n",
    "\n",
    "df1 = pd.DataFrame(np.random.rand(6,6), columns = columns, index = indices)\n",
    "df1"
   ]
  },
  {
   "cell_type": "code",
   "execution_count": 27,
   "id": "44b50a8b-494d-43e4-acfb-e19b49e7ae02",
   "metadata": {},
   "outputs": [
    {
     "name": "stdout",
     "output_type": "stream",
     "text": [
      "(i) mean of each and every column present in the dataframe\n",
      "\n",
      "column_1    0.565463\n",
      "column_2    0.533175\n",
      "column_3    0.574785\n",
      "column_4    0.220768\n",
      "column_5    0.593113\n",
      "column_6    0.649669\n",
      "dtype: float64\n",
      "\n",
      "\n",
      "(ii) standard deviation of column, ‘column_2\n",
      "\n",
      "0.3166415239910984\n"
     ]
    }
   ],
   "source": [
    "# ANS 4 : \n",
    "\n",
    "print(\"(i) mean of each and every column present in the dataframe\\n\")\n",
    "print(df1.mean())\n",
    "print(\"\\n\\n(ii) standard deviation of column, ‘column_2\\n\")\n",
    "print(df1['column_2'].std())"
   ]
  },
  {
   "cell_type": "code",
   "execution_count": 34,
   "id": "6a0d73da-e571-454d-a95c-71887f7a39af",
   "metadata": {},
   "outputs": [
    {
     "name": "stdout",
     "output_type": "stream",
     "text": [
      "   column_1  column_2  column_3  column_4  column_5  column_6\n",
      "1  0.571317  0.030795  0.659706  0.065763  0.950465  0.346167\n",
      "2  0.414519    String  0.546223  0.208002  0.521181  0.538321\n",
      "3  0.190761  0.771574  0.941583  0.182136  0.468017  0.495257\n",
      "4  0.373629  0.435699  0.496129  0.413604  0.789938  0.798201\n",
      "5  0.937480  0.916821  0.445054  0.232249  0.689297  0.910108\n",
      "unsupported operand type(s) for +: 'float' and 'str'\n"
     ]
    },
    {
     "data": {
      "text/plain": [
       "'\\nError is due to String in the funcion we have to use the following code \\nval = df.mean(axis=0,numeric_only=True,skipna=True)\\n'"
      ]
     },
     "execution_count": 34,
     "metadata": {},
     "output_type": "execute_result"
    }
   ],
   "source": [
    "#Ans 5: Replace the data present in the second row of column, ‘column_2’ by a string variable then find the mean of column, column_2.\n",
    "df1.replace(df1.loc[2]['column_2'], \"String\",inplace=True)\n",
    "print(df1.head())\n",
    "try:\n",
    "    df1['column_2'].mean()\n",
    "except Exception as e:\n",
    "    print(e)\n",
    "\n",
    "\"\"\"\n",
    "Error is due to String in the funcion we have to use the following code \n",
    "val = df.mean(axis=0,numeric_only=True,skipna=True)\n",
    "\"\"\""
   ]
  },
  {
   "cell_type": "code",
   "execution_count": null,
   "id": "d57ba5e9-3c46-43dc-a633-38013a4b9324",
   "metadata": {},
   "outputs": [],
   "source": [
    "# Ans 6 : windows function in pandas and the types of windows functions\n",
    "\n",
    "\"\"\"\n",
    "The window functions in Pandas are used to perform some sort of calculations across a set of rows that are interrelated \n",
    "with the current row.\n",
    "\n",
    "Windows functions help us to perform aggregated calculations across various partitions or cross-sections of the data.\n",
    "\n",
    "A window is a value (in terms of rows) that tells us the distance between our current row and the row which is to be used for calculations.\n",
    "\n",
    "Windows function in Pandas can be broadly divided into three categories:\n",
    "Aggregate : Groupby,  Rolling  and Expanding\n",
    "Ranking   : reset_index and cumcount ; default_rank, min_rank, NA_bottom , descending, Percent and  N-Tile / qcut().\n",
    "Value     : Lag / Lead  and First / Last/nth.\n",
    "\n",
    "\"\"\""
   ]
  },
  {
   "cell_type": "code",
   "execution_count": 10,
   "id": "19c8d362-3b91-41aa-a64f-56fb87957e5f",
   "metadata": {},
   "outputs": [
    {
     "name": "stdout",
     "output_type": "stream",
     "text": [
      "Today _ month :  4\n",
      "Today _ Year :  2023\n"
     ]
    }
   ],
   "source": [
    "# Ans 7 : code to print only the current month and year at the time\n",
    "\n",
    "pd_today = pd.Timestamp.now()\n",
    "\n",
    "print(\"Today _ month : \", pd_today.month)\n",
    "print(\"Today _ Year : \", pd_today.year)\n"
   ]
  },
  {
   "cell_type": "code",
   "execution_count": 5,
   "id": "636a2e27-5e25-41a5-a646-bf9147add222",
   "metadata": {},
   "outputs": [
    {
     "name": "stdin",
     "output_type": "stream",
     "text": [
      "Enter Start Date in format YYYY-MM-DD 2023-02-23\n",
      "Enter End Date in format YYYY-MM-DD 2023-03-25\n"
     ]
    },
    {
     "name": "stdout",
     "output_type": "stream",
     "text": [
      "The difference in time delta :  30 days 00:00:00\n"
     ]
    }
   ],
   "source": [
    "# ANS 8 : differnce of dates using time delta  : \n",
    "import pandas as pd\n",
    "start_date = input(\"Enter Start Date in format YYYY-MM-DD\")\n",
    "end_date = input(\"Enter End Date in format YYYY-MM-DD\")\n",
    "\n",
    "diff = pd.to_timedelta(pd.to_datetime(end_date)-pd.to_datetime(start_date))\n",
    "print(\"The difference in time delta : \", diff)"
   ]
  },
  {
   "cell_type": "code",
   "execution_count": 10,
   "id": "7bbe2e04-e878-48dc-965c-7a312f0436c5",
   "metadata": {},
   "outputs": [
    {
     "name": "stdin",
     "output_type": "stream",
     "text": [
      "Enter the name of the file with proper extension 20-Solar-PowerPlats.xlsx\n"
     ]
    },
    {
     "name": "stdout",
     "output_type": "stream",
     "text": [
      "Index(['Name', 'Country', 'Area_Acres', 'Area_SqMiles', 'Area_SqKms', 'Year',\n",
      "       'Peak_capacity'],\n",
      "      dtype='object')\n"
     ]
    },
    {
     "name": "stdin",
     "output_type": "stream",
     "text": [
      "Enter the name of the column to sort Country\n"
     ]
    },
    {
     "name": "stdout",
     "output_type": "stream",
     "text": [
      "['\\xa0India' '\\xa0China' '\\xa0Egypt' '\\xa0United Arab Emirates'\n",
      " '\\xa0Mexico' '\\xa0United States' '\\xa0Vietnam']\n"
     ]
    },
    {
     "name": "stdin",
     "output_type": "stream",
     "text": [
      "Enter the name of the category_order  to sort seperated by',' \\xa0India,\\xa0United Arab Emirates\n"
     ]
    },
    {
     "data": {
      "text/html": [
       "<div>\n",
       "<style scoped>\n",
       "    .dataframe tbody tr th:only-of-type {\n",
       "        vertical-align: middle;\n",
       "    }\n",
       "\n",
       "    .dataframe tbody tr th {\n",
       "        vertical-align: top;\n",
       "    }\n",
       "\n",
       "    .dataframe thead th {\n",
       "        text-align: right;\n",
       "    }\n",
       "</style>\n",
       "<table border=\"1\" class=\"dataframe\">\n",
       "  <thead>\n",
       "    <tr style=\"text-align: right;\">\n",
       "      <th></th>\n",
       "      <th>Name</th>\n",
       "      <th>Country</th>\n",
       "      <th>Area_Acres</th>\n",
       "      <th>Area_SqMiles</th>\n",
       "      <th>Area_SqKms</th>\n",
       "      <th>Year</th>\n",
       "      <th>Peak_capacity</th>\n",
       "    </tr>\n",
       "  </thead>\n",
       "  <tbody>\n",
       "    <tr>\n",
       "      <th>0</th>\n",
       "      <td>Bhadla Solar Park</td>\n",
       "      <td>NaN</td>\n",
       "      <td>14000</td>\n",
       "      <td>21.0</td>\n",
       "      <td>54.4</td>\n",
       "      <td>2020</td>\n",
       "      <td>2245MWp</td>\n",
       "    </tr>\n",
       "    <tr>\n",
       "      <th>1</th>\n",
       "      <td>Huanghe Hydropower Hainan Solar Park</td>\n",
       "      <td>NaN</td>\n",
       "      <td>1408</td>\n",
       "      <td>2.2</td>\n",
       "      <td>5.7</td>\n",
       "      <td>2020</td>\n",
       "      <td>2200MWp</td>\n",
       "    </tr>\n",
       "    <tr>\n",
       "      <th>2</th>\n",
       "      <td>Pavagada Solar Park</td>\n",
       "      <td>NaN</td>\n",
       "      <td>13000</td>\n",
       "      <td>20.3</td>\n",
       "      <td>52.6</td>\n",
       "      <td>2019</td>\n",
       "      <td>2050MWp</td>\n",
       "    </tr>\n",
       "    <tr>\n",
       "      <th>3</th>\n",
       "      <td>Benban Solar Park</td>\n",
       "      <td>NaN</td>\n",
       "      <td>9216</td>\n",
       "      <td>14.4</td>\n",
       "      <td>37.3</td>\n",
       "      <td>2019</td>\n",
       "      <td>1650MWp</td>\n",
       "    </tr>\n",
       "    <tr>\n",
       "      <th>4</th>\n",
       "      <td>Tengger Desert Solar Park</td>\n",
       "      <td>NaN</td>\n",
       "      <td>10625</td>\n",
       "      <td>16.6</td>\n",
       "      <td>43.0</td>\n",
       "      <td>2016</td>\n",
       "      <td>1547MWp</td>\n",
       "    </tr>\n",
       "    <tr>\n",
       "      <th>5</th>\n",
       "      <td>Noor Abu Dhabi</td>\n",
       "      <td>NaN</td>\n",
       "      <td>1920</td>\n",
       "      <td>3.0</td>\n",
       "      <td>7.8</td>\n",
       "      <td>2019</td>\n",
       "      <td>1177MWp</td>\n",
       "    </tr>\n",
       "    <tr>\n",
       "      <th>6</th>\n",
       "      <td>Mohammed bin Rashid Al Maktoum Solar Park</td>\n",
       "      <td>NaN</td>\n",
       "      <td>19200</td>\n",
       "      <td>30.0</td>\n",
       "      <td>77.7</td>\n",
       "      <td>2020</td>\n",
       "      <td>1013MWp</td>\n",
       "    </tr>\n",
       "    <tr>\n",
       "      <th>7</th>\n",
       "      <td>Kurnool Ultra Mega Solar Park</td>\n",
       "      <td>NaN</td>\n",
       "      <td>5952</td>\n",
       "      <td>9.3</td>\n",
       "      <td>24.1</td>\n",
       "      <td>2017</td>\n",
       "      <td>1000MWp</td>\n",
       "    </tr>\n",
       "    <tr>\n",
       "      <th>8</th>\n",
       "      <td>Datong Solar Power Top Runner Base</td>\n",
       "      <td>NaN</td>\n",
       "      <td>6176</td>\n",
       "      <td>9.6</td>\n",
       "      <td>24.9</td>\n",
       "      <td>2016</td>\n",
       "      <td>1000MWp</td>\n",
       "    </tr>\n",
       "    <tr>\n",
       "      <th>9</th>\n",
       "      <td>NP Kunta</td>\n",
       "      <td>NaN</td>\n",
       "      <td>7680</td>\n",
       "      <td>12.0</td>\n",
       "      <td>31.1</td>\n",
       "      <td>2021</td>\n",
       "      <td>978MWp</td>\n",
       "    </tr>\n",
       "    <tr>\n",
       "      <th>10</th>\n",
       "      <td>Longyangxia Dam Solar Park</td>\n",
       "      <td>NaN</td>\n",
       "      <td>6656</td>\n",
       "      <td>10.4</td>\n",
       "      <td>26.9</td>\n",
       "      <td>2015</td>\n",
       "      <td>850MWp</td>\n",
       "    </tr>\n",
       "    <tr>\n",
       "      <th>11</th>\n",
       "      <td>Villanueva Solar Park</td>\n",
       "      <td>NaN</td>\n",
       "      <td>6784</td>\n",
       "      <td>10.6</td>\n",
       "      <td>27.5</td>\n",
       "      <td>2018</td>\n",
       "      <td>828MWp</td>\n",
       "    </tr>\n",
       "    <tr>\n",
       "      <th>12</th>\n",
       "      <td>Copper Mountain Solar Facility</td>\n",
       "      <td>NaN</td>\n",
       "      <td>4000</td>\n",
       "      <td>6.2</td>\n",
       "      <td>16.1</td>\n",
       "      <td>2016</td>\n",
       "      <td>802MWp</td>\n",
       "    </tr>\n",
       "    <tr>\n",
       "      <th>13</th>\n",
       "      <td>Mount Signal Solar</td>\n",
       "      <td>NaN</td>\n",
       "      <td>3929</td>\n",
       "      <td>6.1</td>\n",
       "      <td>15.8</td>\n",
       "      <td>2020</td>\n",
       "      <td>794MWp</td>\n",
       "    </tr>\n",
       "    <tr>\n",
       "      <th>14</th>\n",
       "      <td>Charanka Solar Park</td>\n",
       "      <td>NaN</td>\n",
       "      <td>4900</td>\n",
       "      <td>7.6</td>\n",
       "      <td>19.7</td>\n",
       "      <td>2012</td>\n",
       "      <td>790MWp</td>\n",
       "    </tr>\n",
       "    <tr>\n",
       "      <th>15</th>\n",
       "      <td>Rewa Ultra Mega Solar</td>\n",
       "      <td>NaN</td>\n",
       "      <td>1590</td>\n",
       "      <td>2.4</td>\n",
       "      <td>6.2</td>\n",
       "      <td>2018</td>\n",
       "      <td>750MWp</td>\n",
       "    </tr>\n",
       "    <tr>\n",
       "      <th>16</th>\n",
       "      <td>Solar Star (I and II)</td>\n",
       "      <td>NaN</td>\n",
       "      <td>3200</td>\n",
       "      <td>5.0</td>\n",
       "      <td>12.9</td>\n",
       "      <td>2015</td>\n",
       "      <td>747MWp</td>\n",
       "    </tr>\n",
       "    <tr>\n",
       "      <th>17</th>\n",
       "      <td>Kamuthi Solar Power Project</td>\n",
       "      <td>NaN</td>\n",
       "      <td>2500</td>\n",
       "      <td>3.9</td>\n",
       "      <td>10.1</td>\n",
       "      <td>2017</td>\n",
       "      <td>648MWp</td>\n",
       "    </tr>\n",
       "    <tr>\n",
       "      <th>18</th>\n",
       "      <td>Dau Tieng Solar Power Project</td>\n",
       "      <td>NaN</td>\n",
       "      <td>1245</td>\n",
       "      <td>1.9</td>\n",
       "      <td>4.9</td>\n",
       "      <td>2019</td>\n",
       "      <td>600MWp</td>\n",
       "    </tr>\n",
       "    <tr>\n",
       "      <th>19</th>\n",
       "      <td>Desert Sunlight Solar Farm</td>\n",
       "      <td>NaN</td>\n",
       "      <td>3900</td>\n",
       "      <td>6.2</td>\n",
       "      <td>16.1</td>\n",
       "      <td>2015</td>\n",
       "      <td>550MWp</td>\n",
       "    </tr>\n",
       "  </tbody>\n",
       "</table>\n",
       "</div>"
      ],
      "text/plain": [
       "                                         Name Country  Area_Acres  \\\n",
       "0                           Bhadla Solar Park     NaN       14000   \n",
       "1        Huanghe Hydropower Hainan Solar Park     NaN        1408   \n",
       "2                         Pavagada Solar Park     NaN       13000   \n",
       "3                           Benban Solar Park     NaN        9216   \n",
       "4                   Tengger Desert Solar Park     NaN       10625   \n",
       "5                              Noor Abu Dhabi     NaN        1920   \n",
       "6   Mohammed bin Rashid Al Maktoum Solar Park     NaN       19200   \n",
       "7               Kurnool Ultra Mega Solar Park     NaN        5952   \n",
       "8          Datong Solar Power Top Runner Base     NaN        6176   \n",
       "9                                    NP Kunta     NaN        7680   \n",
       "10                 Longyangxia Dam Solar Park     NaN        6656   \n",
       "11                      Villanueva Solar Park     NaN        6784   \n",
       "12             Copper Mountain Solar Facility     NaN        4000   \n",
       "13                         Mount Signal Solar     NaN        3929   \n",
       "14                        Charanka Solar Park     NaN        4900   \n",
       "15                      Rewa Ultra Mega Solar     NaN        1590   \n",
       "16                      Solar Star (I and II)     NaN        3200   \n",
       "17                Kamuthi Solar Power Project     NaN        2500   \n",
       "18              Dau Tieng Solar Power Project     NaN        1245   \n",
       "19                 Desert Sunlight Solar Farm     NaN        3900   \n",
       "\n",
       "    Area_SqMiles  Area_SqKms  Year Peak_capacity  \n",
       "0           21.0        54.4  2020       2245MWp  \n",
       "1            2.2         5.7  2020       2200MWp  \n",
       "2           20.3        52.6  2019       2050MWp  \n",
       "3           14.4        37.3  2019       1650MWp  \n",
       "4           16.6        43.0  2016       1547MWp  \n",
       "5            3.0         7.8  2019       1177MWp  \n",
       "6           30.0        77.7  2020       1013MWp  \n",
       "7            9.3        24.1  2017       1000MWp  \n",
       "8            9.6        24.9  2016       1000MWp  \n",
       "9           12.0        31.1  2021        978MWp  \n",
       "10          10.4        26.9  2015        850MWp  \n",
       "11          10.6        27.5  2018        828MWp  \n",
       "12           6.2        16.1  2016        802MWp  \n",
       "13           6.1        15.8  2020        794MWp  \n",
       "14           7.6        19.7  2012        790MWp  \n",
       "15           2.4         6.2  2018        750MWp  \n",
       "16           5.0        12.9  2015        747MWp  \n",
       "17           3.9        10.1  2017        648MWp  \n",
       "18           1.9         4.9  2019        600MWp  \n",
       "19           6.2        16.1  2015        550MWp  "
      ]
     },
     "execution_count": 10,
     "metadata": {},
     "output_type": "execute_result"
    }
   ],
   "source": [
    "# ANS 9 : \n",
    "#20-Solar-PowerPlats.xlsx\n",
    "\n",
    "pathstr = input(\"Enter the name of the file with proper extension\")\n",
    "\n",
    "\n",
    "df9 = pd.read_excel(pathstr)\n",
    "\n",
    "print(df9.columns)\n",
    "\n",
    "clumn_name = input(\"Enter the name of the column to sort\")\n",
    "\n",
    "print(df9[clumn_name].unique())\n",
    "\n",
    "category_order  = input(\"Enter the name of the category_order  to sort seperated by','\")\n",
    "category_order = [cat.strip() for cat in category_order.split(\",\")]\n",
    "\n",
    "df9[clumn_name] = pd.Categorical(df9[clumn_name], categories=category_order, ordered=True)\n",
    "\n",
    "\n",
    "df9.sort_values(clumn_name, ascending=False)\n"
   ]
  },
  {
   "cell_type": "code",
   "execution_count": 6,
   "id": "4bf3431d-725c-4934-812e-0ed51bdfed59",
   "metadata": {},
   "outputs": [
    {
     "name": "stdin",
     "output_type": "stream",
     "text": [
      "Enter the name of the file with proper extension Dummy_Sales_Data.xlsx\n"
     ]
    },
    {
     "data": {
      "text/plain": [
       "<AxesSubplot: title={'center': 'Product Sales'}, xlabel='categoty', ylabel='Sales'>"
      ]
     },
     "execution_count": 6,
     "metadata": {},
     "output_type": "execute_result"
    },
    {
     "data": {
      "image/png": "[encoded data removed]",
      "text/plain": [
       "<Figure size 500x500 with 1 Axes>"
      ]
     },
     "metadata": {},
     "output_type": "display_data"
    }
   ],
   "source": [
    "#Ans 10 : \n",
    "#\"Dummy_Sales_Data.xlsx\"\n",
    "pathstr = input(\"Enter the name of the file with proper extension\")\n",
    "\n",
    "df10= pd.read_excel(pathstr)\n",
    "\n",
    "df10_pivot = df10['Quantity'].groupby(df10['Product_Category']).sum()\n",
    "\n",
    "   # Plot barchart overtime\n",
    "df10_pivot.plot(kind='bar',\n",
    "                  title='Product Sales', \n",
    "                  xlabel='categoty',\n",
    "                  ylabel='Sales',\n",
    "                  figsize=(5,5))"
   ]
  },
  {
   "cell_type": "code",
   "execution_count": 7,
   "id": "68703eb8-1ee6-4a54-b9f0-a8ed3e910e1a",
   "metadata": {},
   "outputs": [
    {
     "name": "stdin",
     "output_type": "stream",
     "text": [
      "Enter the file path:  student_data.csv\n"
     ]
    },
    {
     "name": "stdout",
     "output_type": "stream",
     "text": [
      "File Path Entered : student_data.csv\n",
      "\n",
      "==============================\n",
      "\n",
      "DataFrame Provided\n",
      "\n",
      "   Student ID  Test Score\n",
      "0           1          85\n",
      "1           2          90\n",
      "2           3          80\n",
      "3           4          75\n",
      "4           5          85\n",
      "5           6          82\n",
      "6           7          78\n",
      "7           8          85\n",
      "8           9          90\n",
      "9          10          85\n",
      "\n",
      "==============================\n",
      "\n",
      "Statistics Table\n",
      "\n",
      "  Statistic  Value\n",
      "0      Mean   83.5\n",
      "1    Median   85.0\n",
      "2      Mode   85.0\n"
     ]
    }
   ],
   "source": [
    "\n",
    "#Ans 11\n",
    "#student_data.csv\n",
    "\n",
    "import pandas as pd\n",
    "\n",
    "try:\n",
    "  \n",
    "    file_path = input(\"Enter the file path: \")\n",
    "    \n",
    "   \n",
    "    df = pd.read_csv(file_path)\n",
    "\n",
    "    \n",
    "    test_mean = df['Test Score'].mean()\n",
    "    test_median = df['Test Score'].median()\n",
    "    test_mode = df['Test Score'].mode()[0]\n",
    "\n",
    "    \n",
    "    df_stats = pd.DataFrame({'Statistic':['Mean','Median','Mode'],\n",
    "                             'Value':[test_mean,test_median,test_mode]})    \n",
    "\n",
    "    # Print File Path Entered:\n",
    "    print('File Path Entered :',file_path)\n",
    "    print('\\n==============================\\n') \n",
    "    print('DataFrame Provided\\n')\n",
    "    print(df)\n",
    "    print('\\n==============================\\n')\n",
    "    print('Statistics Table\\n')\n",
    "    print(df_stats)    \n",
    "\n",
    "except Exception as e:\n",
    "    print('File Path Entered :',file_path)\n",
    "    print('Exception Occured :',e)"
   ]
  },
  {
   "cell_type": "code",
   "execution_count": null,
   "id": "20623415-2237-4f36-aa37-545543cd69b2",
   "metadata": {},
   "outputs": [],
   "source": []
  }
 ],
 "metadata": {
  "kernelspec": {
   "display_name": "Python 3 (ipykernel)",
   "language": "python",
   "name": "python3"
  },
  "language_info": {
   "codemirror_mode": {
    "name": "ipython",
    "version": 3
   },
   "file_extension": ".py",
   "mimetype": "text/x-python",
   "name": "python",
   "nbconvert_exporter": "python",
   "pygments_lexer": "ipython3",
   "version": "3.10.8"
  }
 },
 "nbformat": 4,
 "nbformat_minor": 5
}
