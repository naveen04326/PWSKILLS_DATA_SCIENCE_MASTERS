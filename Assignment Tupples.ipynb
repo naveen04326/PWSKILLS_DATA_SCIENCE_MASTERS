{
 "cells": [
  {
   "cell_type": "code",
   "execution_count": null,
   "id": "f435f28d-7fac-4f2e-8ef7-d13463fe4b25",
   "metadata": {},
   "outputs": [],
   "source": [
    "# Ans 1\n",
    "\"\"\"\n",
    "Tupples are immutable\n",
    "Tuple items are ordered, unchangeable, and allow duplicate values. \n",
    "Tuple items are indexed, the first item has index [0] ,so on and so forth\n",
    "\"\"\""
   ]
  },
  {
   "cell_type": "code",
   "execution_count": 25,
   "id": "8071efaa-5dab-420f-b778-b181e3f826d2",
   "metadata": {},
   "outputs": [
    {
     "name": "stdout",
     "output_type": "stream",
     "text": [
      "Tupple.count() gives the number of occurances of a specified object : -  {2}\n",
      " Tupple_1.index() Return first index of value. : -  {2}\n"
     ]
    }
   ],
   "source": [
    "# Ans 2\n",
    "\"\"\"\n",
    "Tuple allows us to store values in a sequence and where we might want to share the data with someone but not allow them to manipulate the data\n",
    "\"\"\"\n",
    "Tupple_1 = (1, 56, \"asd\", \"zxc\",\"asd\")\n",
    "\n",
    "a = Tupple_1.count(\"asd\")\n",
    "\n",
    "print(f\"Tupple.count() gives the number of occurances of a specified object : - \",{a})\n",
    "\n",
    "Tupple_1.index(1)\n",
    "print(f\" Tupple_1.index() Return first index of value. : - \", {Tupple_1.index(\"asd\")})\n"
   ]
  },
  {
   "cell_type": "code",
   "execution_count": 27,
   "id": "41307ea3-0b23-4f52-8aaf-e001d6de1218",
   "metadata": {},
   "outputs": [
    {
     "name": "stdout",
     "output_type": "stream",
     "text": [
      "{1, 2, 3, 4}\n"
     ]
    }
   ],
   "source": [
    "#Ans 3 \n",
    "\n",
    "a = [1, 1, 1, 2, 1, 3, 1, 4, 2, 1, 2, 2, 2, 3, 2, 4, 3, 1, 3, 2, 3, 3, 3, 4, 4, 1, 4, 2, 4, 3, 4, 4]\n",
    "\n",
    "#type casting list ot set\n",
    "b = set (a)\n",
    "\n",
    "print (b)"
   ]
  },
  {
   "cell_type": "code",
   "execution_count": 35,
   "id": "334fde57-e934-484a-a69f-b8b05b1ac3a4",
   "metadata": {},
   "outputs": [
    {
     "name": "stdout",
     "output_type": "stream",
     "text": [
      "The value of the union is stored and is printed as {'sushma', 'vijay', 'rahul', 'ketan', 'payal', 'divya', 'suraj'}\n",
      "The values after the update operations are as below : \n",
      "{'sushma', 'vijay', 'rahul', 'ketan', 'payal', 'divya', 'suraj'}\n",
      "{'payal', 'sushma', 'suraj', 'vijay'}\n"
     ]
    }
   ],
   "source": [
    "#Ans 4\n",
    "#union method in set\n",
    "\"\"\"\n",
    "This method is used to return the union of a set and the set of elements from one or more iterable like string, list, set. \n",
    "This method takes arbitrary number of iterable objects as argument, which means one or more iterable can be passed. \n",
    "If iterable other than set is passed, it first converts the iterable object to set object and then perform the union operation.\n",
    "It returns a newly created set, which contains all the elements ( distinct ) present in all the iterables.\n",
    "\"\"\"\n",
    "\n",
    "sec_a = {\"rahul\", \"payal\", \"divya\", \"ketan\"}\n",
    "sec_b = {\"vijay\",\"sushma\",\"suraj\",\"payal\"}\n",
    "\n",
    "CLASS_III = sec_a.union(sec_b)\n",
    "print(f\"The value of the union is stored and is printed as {CLASS_III}\")\n",
    "\n",
    "#update method in set\n",
    "\"\"\"\n",
    "This method is used to return the union of a set and the set of elements from one or more iterable like string, list, set. \n",
    "It is very similar to union() method, with difference is that where union() method create and return a new set, \n",
    "containing all the elements ( distinct ) present in all the iterables, \n",
    "update() method updates the set on which this method is called with all the distinct elements present in all the iterables.\n",
    "\"\"\"\n",
    "sec_c = {\"rahul\", \"payal\", \"divya\", \"ketan\"}\n",
    "sec_d = {\"vijay\",\"sushma\",\"suraj\",\"payal\"}\n",
    "sec_c.update(sec_d)\n",
    "\n",
    "print(f\"The values after the update operations are as below : \")\n",
    "print(sec_c)\n",
    "print(sec_d)\n"
   ]
  },
  {
   "cell_type": "code",
   "execution_count": 36,
   "id": "7661fff5-6581-4c78-80b1-3cf3c5e84200",
   "metadata": {},
   "outputs": [
    {
     "name": "stdout",
     "output_type": "stream",
     "text": [
      "{'brand': 'TATA', 'model': ('TIAGO', 'INDIGA', 'NEXON'), 'year': [2018, 2019, 2020, 2022]}\n"
     ]
    }
   ],
   "source": [
    "#Ans 5 \n",
    "\n",
    "\"\"\"\n",
    "Dictionaries are used to store data values in key:value pairs.\n",
    "\n",
    "A dictionary is a collection which is ordered , changeable and do not allow duplicates.\n",
    "\"\"\"\n",
    "\n",
    "cars = {\n",
    "  \"brand\": \"TATA\",\n",
    "  \"model\": (\"TIAGO\",\"INDIGA\",\"NEXON\"),\n",
    "  \"year\": [2018,2019,2020,2022]\n",
    "}\n",
    "print(cars)"
   ]
  },
  {
   "cell_type": "code",
   "execution_count": 42,
   "id": "fb510b58-12a1-4856-81c0-9b00be90d6c1",
   "metadata": {},
   "outputs": [
    {
     "name": "stdout",
     "output_type": "stream",
     "text": [
      "{'Class_III': ({'sec_A': ('sunita', 'sushma', 'rahul'), 'roll_no': (1, 2, 3)}, {'sec_b': ('payal', 'ajay', 'himani'), 'roll_no': (1, 2, 3)})}\n"
     ]
    }
   ],
   "source": [
    "#Ans 6 \n",
    "#Nested Dictonary\n",
    "\n",
    "school = {\"Class_III\" : ({\"sec_A\" : (\"sunita\", \"sushma\",\"rahul\"), \"roll_no\" : (1,2,3)} , \n",
    "          {\"sec_b\" :(\"payal\", \"ajay\",\"himani\"), \"roll_no\" : (1,2,3)})}\n",
    "print(school)"
   ]
  },
  {
   "cell_type": "code",
   "execution_count": 45,
   "id": "7f21f062-0552-496b-a486-dc75d641e4ac",
   "metadata": {},
   "outputs": [
    {
     "name": "stdout",
     "output_type": "stream",
     "text": [
      "{'language': 'Python', 'course': 'Data Science Masters', 'topics': ['Python', 'Machine Learning', 'Deep Learning']}\n"
     ]
    }
   ],
   "source": [
    "#Ans 7 \n",
    "\n",
    "dict1 = {'language' : 'Python', 'course': 'Data Science Masters'}\n",
    "dict1.setdefault(\"topics\", ['Python', 'Machine Learning','Deep Learning'])\n",
    "\n",
    "print(dict1)\n"
   ]
  },
  {
   "cell_type": "code",
   "execution_count": 49,
   "id": "8217eaee-ac65-40f5-bfce-781e80c486f8",
   "metadata": {},
   "outputs": [
    {
     "name": "stdout",
     "output_type": "stream",
     "text": [
      "dict_keys(['Sport', 'Teams'])\n",
      "dict_values(['Cricket', ['India', 'Australia', 'England', 'South Africa', 'Sri Lanka', 'New Zealand']])\n"
     ]
    },
    {
     "data": {
      "text/plain": [
       "dict_items([('Sport', 'Cricket'), ('Teams', ['India', 'Australia', 'England', 'South Africa', 'Sri Lanka', 'New Zealand'])])"
      ]
     },
     "execution_count": 49,
     "metadata": {},
     "output_type": "execute_result"
    }
   ],
   "source": [
    "#Ans 8\n",
    "dict2 = {'Sport': 'Cricket' , 'Teams': ['India', 'Australia', 'England', 'South Africa', 'Sri Lanka', 'New Zealand']}\n",
    "\n",
    "print(dict2.keys())\n",
    "\n",
    "print(dict2.values())\n",
    "\n",
    "dict2.items()\n"
   ]
  }
 ],
 "metadata": {
  "kernelspec": {
   "display_name": "Python 3 (ipykernel)",
   "language": "python",
   "name": "python3"
  },
  "language_info": {
   "codemirror_mode": {
    "name": "ipython",
    "version": 3
   },
   "file_extension": ".py",
   "mimetype": "text/x-python",
   "name": "python",
   "nbconvert_exporter": "python",
   "pygments_lexer": "ipython3",
   "version": "3.10.8"
  }
 },
 "nbformat": 4,
 "nbformat_minor": 5
}
