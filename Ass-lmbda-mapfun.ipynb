{
 "cells": [
  {
   "cell_type": "code",
   "execution_count": 46,
   "id": "8a8668c5-1f86-4673-85f4-135357f604b9",
   "metadata": {},
   "outputs": [
    {
     "name": "stdout",
     "output_type": "stream",
     "text": [
      "[('Virat Kohli', 24936), ('Jack Kallis', 25534), ('Ricky Ponting', 27483), ('Sachin Tendulkar', 34357)]\n"
     ]
    }
   ],
   "source": [
    "#Ans 1\n",
    "\n",
    "list_name = [('Sachin Tendulkar', 34357), ('Ricky Ponting', 27483), ('Jack Kallis', 25534), ('Virat Kohli', 24936)]\n",
    "\n",
    "list_name.sort(key =  lambda x : x[1])\n",
    "\n",
    "print(list_name)\n"
   ]
  },
  {
   "cell_type": "code",
   "execution_count": 2,
   "id": "e967ca17-a10d-4470-8a2a-7615ea5f2b3c",
   "metadata": {},
   "outputs": [
    {
     "name": "stdout",
     "output_type": "stream",
     "text": [
      "[1, 4, 9, 16, 25, 36, 49, 64, 81, 100]\n"
     ]
    }
   ],
   "source": [
    "# Ans 2\n",
    "\n",
    "l=[1, 2, 3, 4, 5, 6, 7, 8, 9, 10]\n",
    "\n",
    "print(list(map(lambda x : x**2 , l)))"
   ]
  },
  {
   "cell_type": "code",
   "execution_count": 26,
   "id": "242d2641-4f59-4f44-b08d-a6c2923489e0",
   "metadata": {
    "tags": []
   },
   "outputs": [
    {
     "name": "stdout",
     "output_type": "stream",
     "text": [
      "('1', '2', '3', '4', '5', '6', '7', '8', '9', '10')\n"
     ]
    }
   ],
   "source": [
    "# Ans 3 \n",
    "    \n",
    "lis_1 = [1, 2, 3, 4, 5, 6, 7, 8, 9, 10]\n",
    "\n",
    "#type casting list in to tuple :) \n",
    "\n",
    "tup_1 = tuple (map(lambda x : str(x) , lis_1))\n",
    "\n",
    "print (tup_1)\n"
   ]
  },
  {
   "cell_type": "code",
   "execution_count": 31,
   "id": "6a0c95f4-d31b-49ab-9126-cd61df7c9706",
   "metadata": {},
   "outputs": [
    {
     "name": "stdout",
     "output_type": "stream",
     "text": [
      "15511210043330985984000000\n"
     ]
    }
   ],
   "source": [
    "# Ans 4 \n",
    "from functools import reduce\n",
    "print(reduce(lambda x,y : x*y, range(1,26)))"
   ]
  },
  {
   "cell_type": "code",
   "execution_count": 35,
   "id": "f1c0c152-fc5c-4297-af8b-5d3e81842370",
   "metadata": {},
   "outputs": [
    {
     "name": "stdout",
     "output_type": "stream",
     "text": [
      "[2, 3, 6, 9, 27, 60, 90, 120, 46]\n"
     ]
    }
   ],
   "source": [
    "# Ans 5 \n",
    "\n",
    "list_ex = [2, 3, 6, 9, 27, 60, 90, 120, 55, 46]\n",
    "\n",
    "print(list(filter(lambda x : x%2==0 or x%3==0, list_ex)))"
   ]
  },
  {
   "cell_type": "code",
   "execution_count": 40,
   "id": "97b306f4-cdcd-4e69-a35d-ae555cd7572c",
   "metadata": {},
   "outputs": [
    {
     "name": "stdout",
     "output_type": "stream",
     "text": [
      "['php', 'aba', 'radar', 'level']\n"
     ]
    }
   ],
   "source": [
    "# Ans 6 \n",
    "\n",
    "lis_str =['python', 'php', 'aba', 'radar', 'level']\n",
    "\n",
    "print(list(filter(lambda x : x == x[::-1] , lis_str)))"
   ]
  }
 ],
 "metadata": {
  "kernelspec": {
   "display_name": "Python 3 (ipykernel)",
   "language": "python",
   "name": "python3"
  },
  "language_info": {
   "codemirror_mode": {
    "name": "ipython",
    "version": 3
   },
   "file_extension": ".py",
   "mimetype": "text/x-python",
   "name": "python",
   "nbconvert_exporter": "python",
   "pygments_lexer": "ipython3",
   "version": "3.10.8"
  }
 },
 "nbformat": 4,
 "nbformat_minor": 5
}
