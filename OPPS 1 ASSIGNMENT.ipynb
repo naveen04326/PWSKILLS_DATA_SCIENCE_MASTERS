{
 "cells": [
  {
   "cell_type": "code",
   "execution_count": 8,
   "id": "ac2dc7b8-09fd-4116-a721-31e9bb664c3d",
   "metadata": {},
   "outputs": [
    {
     "name": "stdout",
     "output_type": "stream",
     "text": [
      "Name :  Zara , Salary:  2000\n",
      "Name :  Manni , Salary:  5000\n",
      "Total Employee 2\n"
     ]
    }
   ],
   "source": [
    "# Ans 1 : \n",
    "\n",
    "\"\"\"\n",
    "Class − A user-defined prototype for an object that defines a set of attributes that characterize any object of the class. \n",
    "The attributes are data members (class variables and instance variables) and methods, accessed via dot notation.\n",
    "A class is considered as a blueprint of objects to be created using this class.Classes define functions called methods, \n",
    "which identify the behaviors and actions that an object created from the class can perform with its data.\n",
    "\n",
    "Object - An object is called an instance of a class. An instance is an object that is built from a class and contains real data.\n",
    "\n",
    "\"\"\"\n",
    "\n",
    "class Employee:\n",
    "    empCount = 0\n",
    "\n",
    "    def __init__(self, name, salary):\n",
    "        self.name = name\n",
    "        self.salary = salary\n",
    "        Employee.empCount += 1\n",
    "   \n",
    "    def displayCount(self):\n",
    "        print(\"Total Employee %d\" % Employee.empCount)\n",
    "\n",
    "    def displayEmployee(self):\n",
    "        print (\"Name : \", self.name,  \", Salary: \", self.salary)\n",
    "        \n",
    "\n",
    "#create first object of Employee class\n",
    "emp1 = Employee(\"Zara\", 2000)\n",
    "#second object of Employee class\"\n",
    "emp2 = Employee(\"Manni\", 5000)\n",
    "\n",
    "#Displaying details\n",
    "\n",
    "emp1.displayEmployee()\n",
    "emp2.displayEmployee()\n",
    "print(\"Total Employee %d\" % Employee.empCount)"
   ]
  },
  {
   "cell_type": "code",
   "execution_count": null,
   "id": "5433e67e-822a-471c-bf0b-3ce9cd503043",
   "metadata": {},
   "outputs": [],
   "source": [
    "# ANS 2 \n",
    "\n",
    "\"\"\"\n",
    "Four Pillars of OOPs  in Python \n",
    "\n",
    "1) Inheritance\n",
    "In Python it is possible to create an object that inherits the methods and properties of another object. \n",
    "This is called inheritance. In inheritance, there is a parent class and a child class. \n",
    "A child class inherits the properties and methods of the parent class.\n",
    "\n",
    "2) Polymorphism\n",
    "Polymorphism simply means 'many forms'. In Python this means that you can have one function or object that can be used in different ways.\n",
    "Let's take an example of the addition operator (+); we can use it to add numbers, but we can also use it to concatenate strings. \n",
    "\n",
    "3) Encapsulation\n",
    "Encapsulation is the process of making data private by wrapping data and its methods in a 'capsule' or unit, \n",
    "so that it can not be accessed or modified outside of that unit. This is achieved by making variables inside a class private.\n",
    "In Python we can make variables private by prefixing the variable name with a double underscore '__'. \n",
    " \n",
    "when we try to access the variable outside the function we get an attribute error because the variable is now private,\n",
    "and cannot be modified or changed from outside the class.\n",
    "\n",
    "\n",
    "4) Abstraction\n",
    "Abstraction is about keeping the process simple by hiding unnecessary details from the user. This reduces the complexity of the code, and ensures that \n",
    "we only concentrate on what is important.\n",
    "In OOP abstraction is achieved by creating an interface class (base class) and implementation classes (subclasses)\n",
    "\"\"\""
   ]
  },
  {
   "cell_type": "code",
   "execution_count": 2,
   "id": "7d5a14ce-9330-4810-90a8-f5ede5643f60",
   "metadata": {},
   "outputs": [
    {
     "name": "stdout",
     "output_type": "stream",
     "text": [
      "Hello, my name is Vinay\n"
     ]
    }
   ],
   "source": [
    "# Ans 3 \n",
    "\n",
    "\"\"\"\n",
    "The special method __init__ is the Python constructor.The __init__  function is called every time an object is created from a class. \n",
    "The __init__ method lets the class initialize the object’s attributes and serves no other purpose.\n",
    "It is only used within classes. \n",
    "he task of constructors is to initialize(assign values) to the data members of the class when an object of the class is created.\n",
    "Like methods, a constructor also contains a collection of statements(i.e. instructions) that are executed at the time of Object creation. \n",
    "It is run as soon as an object of a class is instantiated. The method is useful to do any initialization you want to do with your object.\n",
    "\"\"\"\n",
    "\n",
    "class Person:\n",
    " \n",
    "    def __init__(self, name):\n",
    "        self.name = name\n",
    " \n",
    "\n",
    "    def say_hi(self):\n",
    "        print('Hello, my name is', self.name)\n",
    " \n",
    " \n",
    "p = Person('Vinay')\n",
    "p.say_hi()"
   ]
  },
  {
   "cell_type": "code",
   "execution_count": null,
   "id": "48947e71-18bf-4fb5-8238-91ac5bc857d5",
   "metadata": {},
   "outputs": [],
   "source": [
    "# Ans 4 \n",
    "\"\"\"\n",
    "The self variable is used to represent the instance of the class which is often used in object-oriented programming. \n",
    "It works as a reference to the object. \n",
    "Python uses the self parameter to refer to instance attributes and methods of the class.\n",
    "\"\"\""
   ]
  },
  {
   "cell_type": "code",
   "execution_count": 15,
   "id": "d64880fc-2fe2-44bb-a5cb-0ebf5c26d714",
   "metadata": {},
   "outputs": [
    {
     "name": "stdout",
     "output_type": "stream",
     "text": [
      "parent method 1  Entered in Parent  \n",
      "Child method 1  adding in child \n"
     ]
    }
   ],
   "source": [
    "# Ans 5 \n",
    "\n",
    "\"\"\"\n",
    "1) Inheritance\n",
    "The method of inheriting the properties of parent class into a child class is known as inheritance. \n",
    "It is an OOP concept. Following are the benefits of inheritance.\n",
    "\n",
    "Code reusability- we do not have to write the same code again and again, we can just inherit the properties we need in a child class.\n",
    "It represents a real world relationship between parent class and child class.\n",
    "It is transitive in nature. If a child class inherits properties from a parent class, \n",
    "then all other sub-classes of the child class will also inherit the properties of the parent class.\n",
    "we can overwrite and add new functionalities without affecting the parent class also. \n",
    "\n",
    "\"\"\"\n",
    "class Parent:\n",
    "    \n",
    "    def __init__(self , fname):\n",
    "        self.firstname = fname\n",
    "    def view(self):\n",
    "         print(self.firstname)\n",
    "            \n",
    "class Child(Parent):\n",
    "    \n",
    "    def __init__(self , fname):\n",
    "        Parent.__init__(self, fname)\n",
    "        self.lastname = \"adding in child \"\n",
    "    def view(self):\n",
    "          print(\"parent method 1 \" , self.firstname , \" \\nChild method 1 \" ,  self.lastname)\n",
    "            \n",
    "ob = Child(\"Entered in Parent\")\n",
    "\n",
    "ob.view()\n",
    "\n"
   ]
  }
 ],
 "metadata": {
  "kernelspec": {
   "display_name": "Python 3 (ipykernel)",
   "language": "python",
   "name": "python3"
  },
  "language_info": {
   "codemirror_mode": {
    "name": "ipython",
    "version": 3
   },
   "file_extension": ".py",
   "mimetype": "text/x-python",
   "name": "python",
   "nbconvert_exporter": "python",
   "pygments_lexer": "ipython3",
   "version": "3.10.8"
  }
 },
 "nbformat": 4,
 "nbformat_minor": 5
}
