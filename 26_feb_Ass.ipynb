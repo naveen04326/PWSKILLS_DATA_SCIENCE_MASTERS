{
 "cells": [
  {
   "cell_type": "code",
   "execution_count": 4,
   "id": "d9220136-faa6-4c42-b6c1-7b27b319bd09",
   "metadata": {},
   "outputs": [
    {
     "name": "stdout",
     "output_type": "stream",
     "text": [
      "data type of array_list:  <class 'numpy.ndarray'>\n",
      "data type of list_:  <class 'list'>\n"
     ]
    }
   ],
   "source": [
    "# Ans 1  : \n",
    "\n",
    "import numpy as np\n",
    "\n",
    "list_ = [ '1' , '2' , '3' , '4' , '5' ]\n",
    "\n",
    "array_list = np.array(object = list_)\n",
    "\n",
    "print(\"data type of array_list: \",type(array_list))\n",
    "\n",
    "print(\"data type of list_: \",type(list_))\n",
    "\n",
    "\"\"\"\n",
    "Data type of list_ is type list \n",
    "\n",
    "and the data type of array_list is array of numpy\n",
    "\n",
    "\"\"\""
   ]
  },
  {
   "cell_type": "code",
   "execution_count": 5,
   "id": "826c0b86-ee2f-4bb9-a2a0-5aff2b33afa1",
   "metadata": {},
   "outputs": [
    {
     "name": "stdout",
     "output_type": "stream",
     "text": [
      "type of list_ items\n",
      "<class 'str'>\n",
      "<class 'str'>\n",
      "<class 'str'>\n",
      "<class 'str'>\n",
      "<class 'str'>\n",
      "type of array_list items\n",
      "<class 'numpy.str_'>\n",
      "<class 'numpy.str_'>\n",
      "<class 'numpy.str_'>\n",
      "<class 'numpy.str_'>\n",
      "<class 'numpy.str_'>\n"
     ]
    }
   ],
   "source": [
    "# Ans 2 : \n",
    "print(\"type of list_ items\")\n",
    "for i in list_:\n",
    "    print(type (i))\n",
    "print(\"type of array_list items\")\n",
    "\n",
    "for j in array_list: \n",
    "    print(type(j))"
   ]
  },
  {
   "cell_type": "code",
   "execution_count": 7,
   "id": "6930f1d1-2767-4243-9454-ad7486a7cccf",
   "metadata": {},
   "outputs": [
    {
     "name": "stdout",
     "output_type": "stream",
     "text": [
      "<class 'str'>\n",
      "<class 'str'>\n",
      "<class 'str'>\n",
      "<class 'str'>\n",
      "<class 'str'>\n",
      "type of array_list items\n",
      "<class 'numpy.int64'>\n",
      "<class 'numpy.int64'>\n",
      "<class 'numpy.int64'>\n",
      "<class 'numpy.int64'>\n",
      "<class 'numpy.int64'>\n"
     ]
    }
   ],
   "source": [
    "# Ans 3 : \n",
    "array_list = np.array(object = list_, dtype = int)\n",
    "for i in list_:\n",
    "    print(type (i))\n",
    "print(\"type of array_list items\")\n",
    "\n",
    "for j in array_list: \n",
    "    print(type(j))\n",
    "    \n",
    "\"\"\"\n",
    "The date type has been converted in to int while converting the items into array of numpy type due to decleration of \n",
    "dtype in the np.array \n",
    "\n",
    "\"\"\""
   ]
  },
  {
   "cell_type": "code",
   "execution_count": 10,
   "id": "08d631cd-6d73-402b-a9d5-14317a8e2f11",
   "metadata": {},
   "outputs": [
    {
     "name": "stdout",
     "output_type": "stream",
     "text": [
      "Shape of array : (2, 3)\n",
      "Size of array : 6\n"
     ]
    }
   ],
   "source": [
    "#Ans 4 : \n",
    "import numpy as np\n",
    "\n",
    "num_list = [ [ 1 , 2 , 3 ] , [ 4 , 5 , 6 ] ]\n",
    "\n",
    "num_array = np.array(object = num_list)\n",
    "\n",
    "print(\"Shape of array :\",num_array.shape)\n",
    "print (\"Size of array :\", num_array.size)"
   ]
  },
  {
   "cell_type": "code",
   "execution_count": 12,
   "id": "2d84c845-875a-40ec-adb3-0bae4fff30f0",
   "metadata": {},
   "outputs": [
    {
     "name": "stdout",
     "output_type": "stream",
     "text": [
      "[[0. 0. 0.]\n",
      " [0. 0. 0.]\n",
      " [0. 0. 0.]]\n"
     ]
    }
   ],
   "source": [
    "#Ans 5 : Create numpy array of 3*3 matrix containing zeros only\n",
    "\n",
    "num_zero = np.zeros((3,3))\n",
    "print(num_zero)"
   ]
  },
  {
   "cell_type": "code",
   "execution_count": 14,
   "id": "a43fb77f-e566-4e03-bfba-740624666961",
   "metadata": {},
   "outputs": [
    {
     "name": "stdout",
     "output_type": "stream",
     "text": [
      "[[1. 0. 0. 0. 0.]\n",
      " [0. 1. 0. 0. 0.]\n",
      " [0. 0. 1. 0. 0.]\n",
      " [0. 0. 0. 1. 0.]\n",
      " [0. 0. 0. 0. 1.]]\n"
     ]
    }
   ],
   "source": [
    "#Ans 6 : Identity matrix of shape (5,5)\n",
    "identity_mat = np.eye((5))\n",
    "print(identity_mat)"
   ]
  }
 ],
 "metadata": {
  "kernelspec": {
   "display_name": "Python 3 (ipykernel)",
   "language": "python",
   "name": "python3"
  },
  "language_info": {
   "codemirror_mode": {
    "name": "ipython",
    "version": 3
   },
   "file_extension": ".py",
   "mimetype": "text/x-python",
   "name": "python",
   "nbconvert_exporter": "python",
   "pygments_lexer": "ipython3",
   "version": "3.10.8"
  }
 },
 "nbformat": 4,
 "nbformat_minor": 5
}
