{
 "cells": [
  {
   "cell_type": "code",
   "execution_count": null,
   "id": "7ab3085c-b00c-428d-84a8-ed6ae423d036",
   "metadata": {},
   "outputs": [],
   "source": [
    "#Ans 1 : Exceptions and Syntax Errors\n",
    "\"\"\"\n",
    "\n",
    "Exceptions : exceptions are raised when some internal events occur which changes the normal flow of the program.\n",
    "\n",
    "Syntax Errors : When the proper syntax of the language is not followed then a syntax error is thrown.\n",
    "\n",
    "Eceptions can be foreseen by the programmer, while an error is difficult to foresee. \n",
    "Exceptions can be checked or unchecked. But errors are always unchecked. Exceptions typically indicate an error caused by the programmer. \n",
    "However, errors occur due to a system error or an inappropriate usage of a resource. \n",
    "Therefore, exceptions should be handled at the application level, while errors should be taken care of at the system level (only if possible). \n",
    "After handling an exception, you are guaranteed to return to normal program flow. \n",
    "But even if an error is caught, the programmer may not know how to handle it in the first place. \n",
    "Unlike traditional error handling, exceptions allow separating error-handling code from regular code.\n",
    "\n",
    "\"\"\""
   ]
  },
  {
   "cell_type": "code",
   "execution_count": 2,
   "id": "06b7bc1b-3c62-4d9f-ab0f-eb7ea829ee08",
   "metadata": {},
   "outputs": [
    {
     "ename": "ZeroDivisionError",
     "evalue": "division by zero",
     "output_type": "error",
     "traceback": [
      "\u001b[0;31m---------------------------------------------------------------------------\u001b[0m",
      "\u001b[0;31mZeroDivisionError\u001b[0m                         Traceback (most recent call last)",
      "Cell \u001b[0;32mIn[2], line 9\u001b[0m\n\u001b[1;32m      1\u001b[0m \u001b[38;5;66;03m#Ans 2 : What happens when exceptions is not handled ?\u001b[39;00m\n\u001b[1;32m      3\u001b[0m \u001b[38;5;124;03m\"\"\"\u001b[39;00m\n\u001b[1;32m      4\u001b[0m \u001b[38;5;124;03mWhen an exception is raised, no further statements in the current block of code are executed. \u001b[39;00m\n\u001b[1;32m      5\u001b[0m \u001b[38;5;124;03mUnless the exception is handled (described below), the interpreter will return directly to the interactive read-eval-print loop, \u001b[39;00m\n\u001b[1;32m      6\u001b[0m \u001b[38;5;124;03mor terminate entirely if Python was started with a file argument.\u001b[39;00m\n\u001b[1;32m      7\u001b[0m \u001b[38;5;124;03m\"\"\"\u001b[39;00m\n\u001b[0;32m----> 9\u001b[0m x \u001b[38;5;241m=\u001b[39m \u001b[38;5;241;43m1\u001b[39;49m\u001b[38;5;241;43m/\u001b[39;49m\u001b[38;5;241;43m0\u001b[39;49m\n",
      "\u001b[0;31mZeroDivisionError\u001b[0m: division by zero"
     ]
    }
   ],
   "source": [
    "#Ans 2 : What happens when exceptions is not handled ?\n",
    "\n",
    "\"\"\"\n",
    "When an exception is raised, no further statements in the current block of code are executed. \n",
    "Unless the exception is handled (described below), the interpreter will return directly to the interactive read-eval-print loop, \n",
    "or terminate entirely if Python was started with a file argument.\n",
    "\"\"\"\n",
    "\n",
    "x = 1/0"
   ]
  },
  {
   "cell_type": "code",
   "execution_count": null,
   "id": "dae0db6b-e499-4bf9-8312-6bad3c857834",
   "metadata": {},
   "outputs": [
    {
     "name": "stdin",
     "output_type": "stream",
     "text": [
      "Enter a valid number 25\n"
     ]
    },
    {
     "name": "stdout",
     "output_type": "stream",
     "text": [
      "My program has no errors hence executed else with result :  0.04\n",
      "this block executed showing any how what ever the results may be \n"
     ]
    }
   ],
   "source": [
    "# Ans 3 & 4 (Try, else, Raise and finally) : Pyhton Statements used to catch and handle exceptions\n",
    "\"\"\"\n",
    "First try clause is executed i.e. the code between try and except clause.\n",
    "If there is no exception, then only try clause will run, except clause will not get executed.\n",
    "If any exception occurs, the try clause will be skipped and except clause will run.\n",
    "If any exception occurs, but the except clause within the code doesn’t handle it, it is passed on to the outer try statements.\n",
    "If the exception is left unhandled, then the execution stops.\n",
    "A try statement can have more than one except clause.\n",
    "\n",
    "Raise is used to raise a mannual exceptions\n",
    "\n",
    "\"\"\"\n",
    "  \n",
    "    \n",
    "\n",
    "def invert_safe(x):\n",
    "    try:\n",
    "        \n",
    "        a = int(x)\n",
    "        \n",
    "        if(int(a) <=0):\n",
    "            raise Exception (\"Enter a number greater than zero\")\n",
    "        \n",
    "        else :\n",
    "            result = 1/int(a)\n",
    "               \n",
    "    except (ValueError,Exception) as e:\n",
    "        print(\"I am catching exception : \", str(e))\n",
    "    \n",
    "    else:\n",
    "        print(\"My program has no errors hence executed else with result : \", result)\n",
    "        \n",
    "    finally: \n",
    "        print(\"this block executed showing any how what ever the results may be \")\n",
    "        \n",
    "invert_safe((input(\"Enter a valid number\")))"
   ]
  },
  {
   "cell_type": "code",
   "execution_count": 18,
   "id": "defc3b85-d929-449f-805c-0535b6547631",
   "metadata": {},
   "outputs": [
    {
     "name": "stdin",
     "output_type": "stream",
     "text": [
      "Enter a number:  12\n"
     ]
    },
    {
     "name": "stdout",
     "output_type": "stream",
     "text": [
      "not eligible to vote for age  12\n",
      "program executed\n"
     ]
    }
   ],
   "source": [
    "# Ans 5 and 6 : Custom Exceptions, Custom exception class in Python with example : \n",
    "\n",
    "\"\"\"\n",
    "CustomError is a user-defined error which inherits from the Exception class.\n",
    "\n",
    "This makes it super easy to create our own custom exceptions, which can make our programs easier to follow and more readable.\n",
    "An exception need not be complicated, just inherit from Exception.\n",
    "Exception takes an optional string argument message that gets printed with your exception. \n",
    "We pass our erroneous value to our IncorrectValueError object, which constructs a special message and passes it its parent class, Exception, via super().__init__(). \n",
    "The custom message string, along with the value for context, gets printed along with our error traceback.\n",
    "\n",
    "\"\"\"\n",
    "\n",
    "class InvalidAgeException(Exception):\n",
    "    def __init__(self, value):\n",
    "        message = print(f\"not eligible to vote for age \", value)\n",
    "        super().__init__(message)\n",
    "    \n",
    "    \n",
    "\n",
    "number = 18\n",
    "\n",
    "try:\n",
    "    input_num = int(input(\"Enter a number: \"))\n",
    "    if input_num < number:\n",
    "        raise InvalidAgeException(input_num)\n",
    "    else:\n",
    "        print(\"Eligible to Vote\")\n",
    "except:\n",
    "    pass\n",
    "   \n",
    "finally:\n",
    "    print(\"program executed\")"
   ]
  }
 ],
 "metadata": {
  "kernelspec": {
   "display_name": "Python 3 (ipykernel)",
   "language": "python",
   "name": "python3"
  },
  "language_info": {
   "codemirror_mode": {
    "name": "ipython",
    "version": 3
   },
   "file_extension": ".py",
   "mimetype": "text/x-python",
   "name": "python",
   "nbconvert_exporter": "python",
   "pygments_lexer": "ipython3",
   "version": "3.10.8"
  }
 },
 "nbformat": 4,
 "nbformat_minor": 5
}
