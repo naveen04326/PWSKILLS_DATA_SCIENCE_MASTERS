{
 "cells": [
  {
   "cell_type": "code",
   "execution_count": 2,
   "id": "a9666c20-1720-4835-b629-7313eb132589",
   "metadata": {},
   "outputs": [
    {
     "name": "stdout",
     "output_type": "stream",
     "text": [
      "[1, 3, 5, 7, 9, 11, 13, 15, 17, 19, 21, 23, 25]\n"
     ]
    }
   ],
   "source": [
    "#Ans 1 \n",
    "\"\"\"\n",
    "def keyword is used to create a function\n",
    "\"\"\"\n",
    "\n",
    "def odd_nums() : \n",
    "    a = []\n",
    "    for i in range(1,26) :\n",
    "        if i%2!=0:\n",
    "            a.append(i)\n",
    "    return a\n",
    "\n",
    "print(odd_nums())\n"
   ]
  },
  {
   "cell_type": "code",
   "execution_count": 3,
   "id": "af2bfd3d-dcdc-4ffa-b93d-37dba266052f",
   "metadata": {},
   "outputs": [
    {
     "name": "stdout",
     "output_type": "stream",
     "text": [
      "(1, 2, 5, 'asd', 'gsd', ['a', 'b', 'c'], ('args', 'args1'))\n",
      "{'key1': ('value1', 'value2'), 'key2': (1, 2, 3, 4)}\n"
     ]
    }
   ],
   "source": [
    "#Ans 2 \n",
    "\"\"\"\n",
    "The single asterisk sign \" * \" basically takes a variable / desired number of arguments as an input in to functions. \n",
    "\n",
    "The double asterisk sign \" ** \" basically takes a variable number of arguments as a key : value pairs and stores the same as Sets {}. \n",
    "\"\"\"\n",
    "def test_args(*args) :\n",
    "    return args\n",
    "\n",
    "def test_kwargs(**kwargs) :\n",
    "    return kwargs\n",
    "\n",
    "\n",
    "print(test_args(1,2,5,\"asd\",\"gsd\",[\"a\",\"b\",\"c\"],(\"args\",\"args1\")))\n",
    "\n",
    "print(test_kwargs(key1=(\"value1\", \"value2\"), key2=(1,2,3,4)))\n"
   ]
  },
  {
   "cell_type": "code",
   "execution_count": 25,
   "id": "2739feaa-d738-49d9-bde0-c6cc5928f60c",
   "metadata": {},
   "outputs": [
    {
     "name": "stdout",
     "output_type": "stream",
     "text": [
      " 1 th element being printed 2\n",
      " 2 th element being printed 4\n",
      " 3 th element being printed 6\n",
      " 4 th element being printed 8\n",
      " 5 th element being printed 10\n",
      "printing using iter and next methods\n",
      "2\n",
      "4\n",
      "6\n",
      "8\n",
      "10\n"
     ]
    }
   ],
   "source": [
    "# Ans 3 : \n",
    "\"\"\"\n",
    "Iterators in Python : An iterator is an object that contains a countable number of values and we can traverse through all the values.\n",
    "\n",
    "We can also use for loop and range functions to iterate through the list \n",
    "\n",
    "An iterator is an object which implements the iterator protocol, which consist of the methods __iter__() and __next__()\n",
    "The iterator consists of two methods: \n",
    "iter() and \n",
    "next().  \n",
    "\n",
    "Following example uses simple for loop.\n",
    "\"\"\"\n",
    "\n",
    "ex_list = [2, 4, 6, 8, 10, 12, 14, 16, 18, 20]\n",
    "len_list =len(ex_list)\n",
    "for i in range (len_list):\n",
    "    if i<5:\n",
    "        print(f\" {i+1} th element being printed {ex_list[i]}\")\n",
    "\n",
    "print(\"printing using iter and next methods\")\n",
    "        \n",
    "listiter = iter(ex_list)\n",
    "for i in range(0,5) :\n",
    "    print(next(listiter))\n"
   ]
  },
  {
   "cell_type": "code",
   "execution_count": 42,
   "id": "a6e03831-ec8c-45cd-b35a-135c59b10d64",
   "metadata": {},
   "outputs": [
    {
     "name": "stdin",
     "output_type": "stream",
     "text": [
      "enter a int number 15\n"
     ]
    },
    {
     "name": "stdout",
     "output_type": "stream",
     "text": [
      "[0, 1, 2, 3, 4, 5, 6, 7, 8, 9, 10, 11, 12, 13, 14]\n"
     ]
    }
   ],
   "source": [
    "# Ans 4\n",
    "\"\"\"\n",
    "A generator-function is defined like a normal function,\n",
    "but whenever it needs to generate a value, \n",
    "it does so with the yield keyword rather than return.\n",
    "\n",
    "Generators are useful when we want to produce a large sequence of values,\n",
    "but we don't want to store all of them in memory at once. \n",
    "\n",
    "\"\"\"\n",
    "\n",
    "def numberGenerator(n):\n",
    "    if n <= 20:\n",
    "        number = 0\n",
    "        while number < n:\n",
    "            yield number\n",
    "            number += 1\n",
    "    else:\n",
    "        print(\"enter value less than 20\")\n",
    "         \n",
    "a = int(input(\"enter a int number\"))\n",
    "print(list(numberGenerator(a)))"
   ]
  },
  {
   "cell_type": "code",
   "execution_count": 79,
   "id": "fd5ba433-a193-4df1-99c7-495fa4f89698",
   "metadata": {},
   "outputs": [
    {
     "name": "stdout",
     "output_type": "stream",
     "text": [
      "2 - 3 - 5 - 7 - 11 - 13 - 17 - 19 - 23 - 29 - 31 - 37 - 41 - 43 - 47 - 49 - 53 - 59 - 61 - 67 - 71 - 73 - 77 - 79 - 83 - 89 - 91 - 97 - 101 - 103 - 107 - 109 - 113 - 119 - 121 - 127 - 131 - 133 - 137 - 139 - 143 - 149 - 151 - 157 - 161 - 163 - 167 - 169 - 173 - 179 - 181 - 187 - 191 - 193 - 197 - 199 - 203 - 209 - 211 - 217 - 221 - 223 - 227 - 229 - 233 - 239 - 241 - 247 - 251 - 253 - 257 - 259 - 263 - 269 - 271 - 277 - 281 - 283 - 287 - 289 - 293 - 299 - 301 - 307 - 311 - 313 - 317 - 319 - 323 - 329 - 331 - 337 - 341 - 343 - 347 - 349 - 353 - 359 - 361 - 367 - 371 - 373 - 377 - 379 - 383 - 389 - 391 - 397 - 401 - 403 - 407 - 409 - 413 - 419 - 421 - 427 - 431 - 433 - 437 - 439 - 443 - 449 - 451 - 457 - 461 - 463 - 467 - 469 - 473 - 479 - 481 - 487 - 491 - 493 - 497 - 499 - 503 - 509 - 511 - 517 - 521 - 523 - 527 - 529 - 533 - 539 - 541 - 547 - 551 - 553 - 557 - 559 - 563 - 569 - 571 - 577 - 581 - 583 - 587 - 589 - 593 - 599 - 601 - 607 - 611 - 613 - 617 - 619 - 623 - 629 - 631 - 637 - 641 - 643 - 647 - 649 - 653 - 659 - 661 - 667 - 671 - 673 - 677 - 679 - 683 - 689 - 691 - 697 - 701 - 703 - 707 - 709 - 713 - 719 - 721 - 727 - 731 - 733 - 737 - 739 - 743 - 749 - 751 - 757 - 761 - 763 - 767 - 769 - 773 - 779 - 781 - 787 - 791 - 793 - 797 - 799 - 803 - 809 - 811 - 817 - 821 - 823 - 827 - 829 - 833 - 839 - 841 - 847 - 851 - 853 - 857 - 859 - 863 - 869 - 871 - 877 - 881 - 883 - 887 - 889 - 893 - 899 - 901 - 907 - 911 - 913 - 917 - 919 - 923 - 929 - 931 - 937 - 941 - 943 - 947 - 949 - 953 - 959 - 961 - 967 - 971 - 973 - 977 - 979 - 983 - 989 - 991 - 997 - list end\n"
     ]
    }
   ],
   "source": [
    "# Ans 5 \n",
    "def filter_prime(numbers):\n",
    "    for number in range(numbers):\n",
    "        if(number >0 and number <=2 and number%2==0 ):\n",
    "            yield number\n",
    "        elif(number > 2 and number <=3 and number%3==0 ):\n",
    "            yield number\n",
    "        elif(number > 3 and number <=5 and number%5==0 ):\n",
    "            yield number\n",
    "        elif(number >5 and (number%2!=0 and number%3!=0 and number%5!=0)) :\n",
    "            yield number\n",
    "                        \n",
    "prime_numbers = iter(filter_prime(1000))\n",
    "while (1) :\n",
    "    value = next(prime_numbers,'end')\n",
    "    if value == 'end':\n",
    "        print ('list end')\n",
    "        break\n",
    "    else :\n",
    "        print (value, end = \" - \")"
   ]
  }
 ],
 "metadata": {
  "kernelspec": {
   "display_name": "Python 3 (ipykernel)",
   "language": "python",
   "name": "python3"
  },
  "language_info": {
   "codemirror_mode": {
    "name": "ipython",
    "version": 3
   },
   "file_extension": ".py",
   "mimetype": "text/x-python",
   "name": "python",
   "nbconvert_exporter": "python",
   "pygments_lexer": "ipython3",
   "version": "3.10.8"
  }
 },
 "nbformat": 4,
 "nbformat_minor": 5
}
