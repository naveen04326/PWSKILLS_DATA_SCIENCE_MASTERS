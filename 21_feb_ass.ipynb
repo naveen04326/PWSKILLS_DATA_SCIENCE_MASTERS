{
 "cells": [
  {
   "cell_type": "code",
   "execution_count": null,
   "id": "b884366e-868d-4860-9688-1e2ccd7d3735",
   "metadata": {},
   "outputs": [],
   "source": [
    "#Ans 1 : \n",
    "\n",
    "\"\"\"\n",
    "Web scraping is an automated method used to extract large amounts of data from websites. \n",
    "The data on the websites are unstructured. Web scraping helps collect these unstructured data and store it in a structured form. \n",
    "There are different ways to scrape websites such as online Services, APIs or writing your own code.\n",
    "\n",
    "Uses of Web Scraping\n",
    "\n",
    "Price Comparison\n",
    "Email address gathering\n",
    "Social Media Scraping\n",
    "Research and Development\n",
    "Job listings\n",
    "\"\"\""
   ]
  },
  {
   "cell_type": "code",
   "execution_count": null,
   "id": "f166a9c6-1bc1-40ed-b5d5-da068cf9e7b8",
   "metadata": {},
   "outputs": [],
   "source": [
    "#Ans 2 : \n",
    "\n",
    "\"\"\"\n",
    "Methods used for web scrapping : \n",
    "\n",
    "The most common techniques used for Web Scraping are\n",
    "\n",
    "Human copy-and-paste.\n",
    "Text pattern matching.\n",
    "HTTP programming.\n",
    "HTML parsing.\n",
    "DOM parsing.\n",
    "Vertical aggregation.\n",
    "Semantic annotation recognizing.\n",
    "Computer vision web-page analysis.\n",
    "\n",
    "\n",
    "\"\"\""
   ]
  },
  {
   "cell_type": "code",
   "execution_count": null,
   "id": "51881235-f84d-4300-908b-e3a523f5074c",
   "metadata": {},
   "outputs": [],
   "source": [
    "# Ans 3: \n",
    "\n",
    "\"\"\"\n",
    "Beautiful Soup is a Python library that makes it easy to scrape information from web pages. \n",
    "It sits atop an HTML or XML parser and provides Pythonic idioms for iterating, searching, and modifying the parse tree.\n",
    "\n",
    "The Beautiful Soup library helps with isolating titles and links from webpages.\n",
    "It can extract all of the text from ​HTML tags, and alter the HTML in the document with which we’re working.\n",
    "\n",
    "Some key features that make beautiful soup unique are:\n",
    "\n",
    "Beautiful Soup provides a few simple methods and Pythonic idioms for navigating, searching, and modifying a parse tree.\n",
    "Beautiful Soup automatically converts incoming documents to Unicode and outgoing documents to UTF-8.\n",
    "Beautiful Soup sits on top of popular Python parsers like lxml and html5lib, which allows\n",
    "us to try out different parsing strategies or trade speed for flexibility.\n",
    "\n",
    "\"\"\""
   ]
  },
  {
   "cell_type": "code",
   "execution_count": null,
   "id": "edfc1a4d-85ec-4529-9678-3a4ef66828e1",
   "metadata": {},
   "outputs": [],
   "source": [
    "#Ans 4 : \n",
    "\n",
    "\"\"\"\n",
    "Flask is a lightweight framework to build websites. \n",
    "We can use this to parse our collected data and display it as HTML in a new HTML file.\n",
    "The requests module allows us to send http requests to the website we want to scrape. \n",
    "\n",
    "\n",
    "\"\"\""
   ]
  },
  {
   "cell_type": "code",
   "execution_count": null,
   "id": "e393d935-d5f9-46f2-a0e2-5aa694702839",
   "metadata": {},
   "outputs": [],
   "source": [
    "# Ans 5 : \n",
    "\"\"\"\n",
    "AWS Elastic Beanstalk\n",
    "\n",
    "This AWS service supports running and managing web applications. \n",
    "Elastic Beanstalk allows for the easy deployment of applications from capacity provisioning, load balancing,\n",
    "and auto-scaling to application health monitoring. With its auto-scaling properties, \n",
    "this service simplifies demands in scaling to adjust to the needs of the business. \n",
    "It helps to manage peaks in workloads and traffic with minimum costs. \n",
    "Basically, AWS Elastic Beanstalk is a developer-friendly tool since it manages servers, load balancers, firewalls, and networks simply.\n",
    "As a result, this service allows developers to show much more focus on coding.\n",
    "\n",
    "\n",
    "\"\"\""
   ]
  }
 ],
 "metadata": {
  "kernelspec": {
   "display_name": "Python 3 (ipykernel)",
   "language": "python",
   "name": "python3"
  },
  "language_info": {
   "codemirror_mode": {
    "name": "ipython",
    "version": 3
   },
   "file_extension": ".py",
   "mimetype": "text/x-python",
   "name": "python",
   "nbconvert_exporter": "python",
   "pygments_lexer": "ipython3",
   "version": "3.10.8"
  }
 },
 "nbformat": 4,
 "nbformat_minor": 5
}
