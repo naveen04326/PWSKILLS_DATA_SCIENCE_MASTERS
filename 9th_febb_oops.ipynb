{
 "cells": [
  {
   "cell_type": "code",
   "execution_count": 24,
   "id": "f8d1cb18-a59a-448d-be38-31a2c1ddafe5",
   "metadata": {},
   "outputs": [
    {
     "name": "stdin",
     "output_type": "stream",
     "text": [
      "enter name of vehicle Tata\n",
      "enter max speed of vehicle 65\n",
      "average of vehicle 18\n"
     ]
    },
    {
     "data": {
      "text/plain": [
       "('Tata', 65, 18)"
      ]
     },
     "execution_count": 24,
     "metadata": {},
     "output_type": "execute_result"
    }
   ],
   "source": [
    "#Ans 1 : \n",
    "\n",
    "class vehicle():\n",
    "    \n",
    "    def __init__ (self,name_of_vehicle, max_speed, average_of_vehicle) :\n",
    "        p = lambda x :int(max_speed) if max_speed.isnumeric()  else print (\"enter value in intiger\") \n",
    "        self.name_of_vehicle = name_of_vehicle\n",
    "        self.max_speed = p(max_speed)\n",
    "        self.average_of_vehicle = int(average_of_vehicle)\n",
    "    \n",
    "    def return_details (self):\n",
    "        return self.name_of_vehicle, self.max_speed, self.average_of_vehicle\n",
    "\n",
    "car = vehicle(input(\"enter name of vehicle\"), input(\"enter max speed of vehicle\"), input(\"average of vehicle\"))  \n",
    "car.return_details()"
   ]
  },
  {
   "cell_type": "code",
   "execution_count": 31,
   "id": "7a12db25-6d4d-45f8-b3b7-3f4de2578e9f",
   "metadata": {},
   "outputs": [
    {
     "name": "stdin",
     "output_type": "stream",
     "text": [
      "enter name of vehicle Toyota\n",
      "enter max speed of vehicle 125\n",
      "average of vehicle 10\n",
      "enter seating capacity 7\n"
     ]
    },
    {
     "data": {
      "text/plain": [
       "('Toyota', '7')"
      ]
     },
     "execution_count": 31,
     "metadata": {},
     "output_type": "execute_result"
    }
   ],
   "source": [
    "# Ans 2 \n",
    "class vehicle():\n",
    "    \n",
    "    def __init__ (self,name_of_vehicle, max_speed, average_of_vehicle) :\n",
    "        p = lambda x :int(max_speed) if max_speed.isnumeric()  else print (\"enter value in intiger\") \n",
    "        self.name_of_vehicle = name_of_vehicle\n",
    "        self.max_speed = p(max_speed)\n",
    "        self.average_of_vehicle = int(average_of_vehicle)\n",
    "    \n",
    "    def return_details (self):\n",
    "        return self.name_of_vehicle, self.max_speed, self.average_of_vehicle\n",
    "\n",
    "class car (vehicle):\n",
    "    \n",
    "    def __init__(self, name_of_vehicle, max_speed, average_of_vehicle, seating_capacity):\n",
    "        self.name_of_vehicle = name_of_vehicle\n",
    "        self.max_speed = max_speed\n",
    "        self.average_of_vehicle = average_of_vehicle\n",
    "        self.seating_capacity = seating_capacity\n",
    "        \n",
    "    def details(self):\n",
    "        return self.name_of_vehicle, self.seating_capacity\n",
    "    \n",
    "    \n",
    "car1 = car(input(\"enter name of vehicle\"), input(\"enter max speed of vehicle\"), input(\"average of vehicle\"), input(\"enter seating capacity\"))\n",
    "car1.details()"
   ]
  },
  {
   "cell_type": "code",
   "execution_count": 1,
   "id": "3becc2c5-31f5-4f0c-a06e-a0932303f826",
   "metadata": {},
   "outputs": [
    {
     "name": "stdout",
     "output_type": "stream",
     "text": [
      "Father Enjoys Driving\n",
      "Mother Enjoys Cooking\n",
      "Child Loves Playing\n"
     ]
    }
   ],
   "source": [
    "# Ans 3 : Multiple Inheritance : \n",
    "\n",
    "\"\"\"\n",
    "Multiple inheritance is a feature of some object-oriented computer programming languages \n",
    "in which an object or class can inherit characteristics and features from more than one parent object or the parent class .\n",
    "\"\"\"\n",
    "\n",
    "class Father():\n",
    "    def Driving(self):\n",
    "        print(\"Father Enjoys Driving\")\n",
    "class Mother():\n",
    "    def Cooking(self):\n",
    "        print(\"Mother Enjoys Cooking\")\n",
    "class Child(Father, Mother):\n",
    "    def Playing(self):\n",
    "        print(\"Child Loves Playing\")\n",
    "c = Child()\n",
    "c.Driving()\n",
    "c.Cooking()\n",
    "c.Playing()"
   ]
  },
  {
   "cell_type": "code",
   "execution_count": 8,
   "id": "c8215519-89c7-45cf-bdf7-c1fe25942d0f",
   "metadata": {},
   "outputs": [
    {
     "name": "stdin",
     "output_type": "stream",
     "text": [
      "enter a number 25\n"
     ]
    },
    {
     "name": "stdout",
     "output_type": "stream",
     "text": [
      "value before changing 25\n"
     ]
    },
    {
     "name": "stdin",
     "output_type": "stream",
     "text": [
      "enter another number to update 36\n"
     ]
    },
    {
     "name": "stdout",
     "output_type": "stream",
     "text": [
      "value after changing 36\n"
     ]
    }
   ],
   "source": [
    "# Ans 4 : getter and setter method in Python \n",
    "\n",
    "\"\"\"\n",
    "getters and setters methods validate new values and  avoid accessing or modifying the data directly.\n",
    "\n",
    "Getters: These are the methods used in Object-Oriented Programming (OOPS) which helps to access the private attributes from a class.\n",
    "\n",
    "Setters: These are the methods used in OOPS feature which helps to set the value to private attributes in a class.\n",
    "\n",
    "\"\"\"\n",
    "\n",
    "class SampleClass:\n",
    "\n",
    "    def __init__(self, a):\n",
    "        \n",
    "        self.__a = a\n",
    "\n",
    "    def get_a(self):\n",
    "        return self.__a\n",
    "\n",
    "    def set_a(self, a):\n",
    "        self.__a = a\n",
    "\n",
    "val = SampleClass(input(\"enter a number\"))\n",
    "print(\"value before changing\",val.get_a())\n",
    "val.set_a(input(\"enter another number to update\"))\n",
    "print(\"value after changing\",val.get_a())"
   ]
  },
  {
   "cell_type": "code",
   "execution_count": 14,
   "id": "92957dd0-0ee8-49f6-81a1-7ea1835d0e1a",
   "metadata": {},
   "outputs": [
    {
     "name": "stdout",
     "output_type": "stream",
     "text": [
      "Atul’s discount will be 180.0\n",
      "None\n",
      "dhiren’s discount will be 60.0\n",
      "None\n"
     ]
    }
   ],
   "source": [
    "# Ans 5 : Method overridding : \n",
    "\n",
    "\"\"\"\n",
    "Method overriding is when you are using the same method name, and the same number of arguments in the classes and usually in case of inheritance.\n",
    "\n",
    "\"\"\"\n",
    "\n",
    "class RegularCustomer:\n",
    "\n",
    "    def __init__(self, name, item, price, quantity):\n",
    "\n",
    "        self.name = name\n",
    "        self.item = item\n",
    "        self.price = price\n",
    "        self.quantity = quantity\n",
    "        \n",
    "    def discount(self):\n",
    "        return self.price * 0.3\n",
    "\n",
    "\n",
    "class OccasionalCustomer(RegularCustomer):\n",
    "\n",
    "    def __init__(self, name, item, price, quantity):\n",
    "        super().__init__(name, item, price, quantity)\n",
    "\n",
    "    def discount(self):   \n",
    "        return self.price * 0.1\n",
    "\n",
    "\n",
    "# common interface\n",
    "\n",
    "def cal_discount(object):\n",
    "    z = object.discount()\n",
    "    print(f'{object.name}’s discount will be {z}')\n",
    "\n",
    "cus_1 = RegularCustomer('Atul', 'shoes', 600, 1)\n",
    "cus_2 = OccasionalCustomer('dhiren', 'shoes', 600, 1)\n",
    "\n",
    "print(cal_discount(cus_1))\n",
    "print(cal_discount(cus_2))\n"
   ]
  }
 ],
 "metadata": {
  "kernelspec": {
   "display_name": "Python 3 (ipykernel)",
   "language": "python",
   "name": "python3"
  },
  "language_info": {
   "codemirror_mode": {
    "name": "ipython",
    "version": 3
   },
   "file_extension": ".py",
   "mimetype": "text/x-python",
   "name": "python",
   "nbconvert_exporter": "python",
   "pygments_lexer": "ipython3",
   "version": "3.10.8"
  }
 },
 "nbformat": 4,
 "nbformat_minor": 5
}
