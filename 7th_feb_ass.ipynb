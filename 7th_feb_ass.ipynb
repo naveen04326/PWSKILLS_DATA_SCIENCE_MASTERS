{
 "cells": [
  {
   "cell_type": "code",
   "execution_count": 14,
   "id": "0d1796aa-4f7a-4ed4-989a-86ba08e339e1",
   "metadata": {},
   "outputs": [
    {
     "name": "stdin",
     "output_type": "stream",
     "text": [
      " please enter your password AAAbbb123!@#\n"
     ]
    },
    {
     "name": "stdout",
     "output_type": "stream",
     "text": [
      " It's valid password\n"
     ]
    }
   ],
   "source": [
    "#Ans 1 : Password_Checking\n",
    "def pass_check(a) :\n",
    "    chek_pass = a\n",
    "    if(len(chek_pass)>=10) :\n",
    "        upper_check = lambda a : True if len(list(filter(lambda chars : chars.isupper(), chek_pass))) >= 2 else False\n",
    "        lower_check = lambda a : True if len(list(filter(lambda chars : chars.islower(), chek_pass))) >= 2 else False\n",
    "        number_check = lambda a : True if len(list(filter(lambda chars : chars.isnumeric(), chek_pass))) >= 1 else False\n",
    "        splchar_check = lambda a : True if len(list(filter(lambda chars : (not chars.isnumeric() and not chars.isdigit()) , chek_pass))) >= 3 else False\n",
    "        if(upper_check (chek_pass) and lower_check(chek_pass) and number_check(chek_pass) and splchar_check(chek_pass)):\n",
    "            return True\n",
    "        else :\n",
    "            return False\n",
    "    else :\n",
    "        return False\n",
    "\n",
    "\n",
    "password = input (\" please enter your password\")\n",
    "validity = pass_check(password)\n",
    "\n",
    "if (validity == True):\n",
    "    print(\" It's valid password\")\n",
    "else:\n",
    "    print(\" Invalid password please recheck\")\n"
   ]
  },
  {
   "cell_type": "code",
   "execution_count": 15,
   "id": "55fb3d80-ff42-40c5-b045-3f1e14059d55",
   "metadata": {},
   "outputs": [
    {
     "name": "stdin",
     "output_type": "stream",
     "text": [
      "Enter a String to Check if it starts with 'n'  naveen\n"
     ]
    },
    {
     "name": "stdout",
     "output_type": "stream",
     "text": [
      "naveen starts with 'n'\n"
     ]
    }
   ],
   "source": [
    "#Ans 2.1 Check if string starts with a particular letter\n",
    "a = input (\"Enter a String to Check if it starts with 'n' \")\n",
    "\n",
    "result = lambda p : True if a.find('n') == 0 else False\n",
    "\n",
    "if result(a) == True :\n",
    "    print(f\"{a} starts with 'n'\")\n",
    "else :\n",
    "    print(\"letter doesn't start with 'n' \")\n"
   ]
  },
  {
   "cell_type": "code",
   "execution_count": 21,
   "id": "472df156-b221-411c-91ac-cca7cb352c9f",
   "metadata": {},
   "outputs": [
    {
     "name": "stdin",
     "output_type": "stream",
     "text": [
      "Enter a String to Check if it is numeric  154525\n"
     ]
    },
    {
     "name": "stdout",
     "output_type": "stream",
     "text": [
      "154525 is numeric\n"
     ]
    }
   ],
   "source": [
    "# Ans 2.2 check is string is numeric\n",
    "a = input (\"Enter a String to Check if it is numeric \")\n",
    "\n",
    "result = lambda p : True if a.isnumeric() else False\n",
    "\n",
    "if result(a) == True :\n",
    "    print(f\"{a} is numeric\")\n",
    "else :\n",
    "    print(\" The entered value is not nimeric \")\n"
   ]
  },
  {
   "cell_type": "code",
   "execution_count": 24,
   "id": "5b57c3d9-4265-47df-a339-ea1ac6d41cec",
   "metadata": {},
   "outputs": [
    {
     "name": "stdout",
     "output_type": "stream",
     "text": [
      "[('mango', 99), ('Orange', 80), ('Grapes', 1000)] is the original list\n",
      "[('Orange', 80), ('mango', 99), ('Grapes', 1000)] is the sorted list\n"
     ]
    }
   ],
   "source": [
    "# Ans 2.3 sort a list of tupples \n",
    "\n",
    "a = [(\"mango\", 99),(\"Orange\",80),(\"Grapes\",1000)]\n",
    "\n",
    "print(f\"{a} is the original list\")\n",
    "\n",
    "a.sort(key = lambda x : x[1])\n",
    "\n",
    "print(f\"{a} is the sorted list\")\n"
   ]
  },
  {
   "cell_type": "code",
   "execution_count": 27,
   "id": "175f8ba4-3400-4fc7-96f0-0963efedca10",
   "metadata": {},
   "outputs": [
    {
     "name": "stdout",
     "output_type": "stream",
     "text": [
      "range(1, 11) is the original list\n",
      "[1, 4, 9, 16, 25, 36, 49, 64, 81, 100] is the square list\n"
     ]
    }
   ],
   "source": [
    "# Ans 2.3 squares of numbers from 1 to 10 \n",
    "\n",
    "a = range (1,11)\n",
    "\n",
    "print(f\"{a} is the original list\")\n",
    "\n",
    "result = list(map(lambda x : x**2, a))\n",
    "\n",
    "print(f\"{result} is the square list\")"
   ]
  },
  {
   "cell_type": "code",
   "execution_count": 30,
   "id": "691efc84-c053-4a52-b509-1a66d0c01f74",
   "metadata": {},
   "outputs": [
    {
     "name": "stdout",
     "output_type": "stream",
     "text": [
      "range(1, 11) is the original list\n",
      "[1.0, 1.26, 1.442, 1.587, 1.71, 1.817, 1.913, 2.0, 2.08, 2.154] is the square list\n"
     ]
    }
   ],
   "source": [
    "# Ans 2.4 cube root of numbers from 1 to 10 \n",
    "\n",
    "a = range (1,11)\n",
    "\n",
    "print(f\"{a} is the original list\")\n",
    "\n",
    "result = list(map(lambda x : round(x**(1/3),3), a))\n",
    "\n",
    "print(f\"{result} is the square list\")"
   ]
  },
  {
   "cell_type": "code",
   "execution_count": 38,
   "id": "6fab0a05-3edb-420a-8391-1a20b4441c3a",
   "metadata": {},
   "outputs": [
    {
     "name": "stdin",
     "output_type": "stream",
     "text": [
      "Enter a number 56\n"
     ]
    },
    {
     "name": "stdout",
     "output_type": "stream",
     "text": [
      "entered number 56 is even\n"
     ]
    }
   ],
   "source": [
    "# Ans 2.5 check if given No is even\n",
    "\n",
    "a = int(input(\"Enter a number\"))\n",
    "\n",
    "result = lambda x : x%2\n",
    "\n",
    "if result(a) == 0:\n",
    "    print(f\"entered number {a} is even\")\n",
    "else: \n",
    "    print(\"entered number is not even\")"
   ]
  },
  {
   "cell_type": "code",
   "execution_count": 42,
   "id": "e9c0c58a-078e-4d84-9787-98f03caf7291",
   "metadata": {},
   "outputs": [
    {
     "name": "stdout",
     "output_type": "stream",
     "text": [
      "the list given is  range(1, 11)\n",
      "entered list [1, 3, 5, 7, 9] is odd\n"
     ]
    }
   ],
   "source": [
    "# Ans 2.6 print odd numbers from list\n",
    "\n",
    "a = range (1,11)\n",
    "print(\"the list given is \",a)\n",
    "\n",
    "result = list(filter(lambda x : x%2!=0 , a))\n",
    "\n",
    "print(f\"entered list {result} is odd\")"
   ]
  },
  {
   "cell_type": "code",
   "execution_count": 43,
   "id": "f0d6b404-c82a-4cca-b787-a162fddbfe5e",
   "metadata": {},
   "outputs": [
    {
     "name": "stdout",
     "output_type": "stream",
     "text": [
      "the list given is  [1, 2, 3, 4, 5, 6, -1, -2, -3, -5, 0]\n",
      "entered list [1, 2, 3, 4, 5, 6, 0] is +ve\n",
      "entered list [-1, -2, -3, -5] is =ve\n"
     ]
    }
   ],
   "source": [
    "# Ans 2.6 sort a list into negative and +ve integer list\n",
    "\n",
    "a = [1,2,3,4,5,6,-1,-2,-3,-5,0]\n",
    "print(\"the list given is \",a)\n",
    "\n",
    "result_pos = list(filter(lambda x : x>=0 , a))\n",
    "result_neg= list(filter(lambda x : x<0 , a))\n",
    "\n",
    "print(f\"entered list {result_pos} is +ve\")\n",
    "print(f\"entered list {result_neg} is =ve\")"
   ]
  },
  {
   "cell_type": "code",
   "execution_count": null,
   "id": "1544e8df-9d67-44a7-a912-5fb50299539a",
   "metadata": {},
   "outputs": [],
   "source": []
  }
 ],
 "metadata": {
  "kernelspec": {
   "display_name": "Python 3 (ipykernel)",
   "language": "python",
   "name": "python3"
  },
  "language_info": {
   "codemirror_mode": {
    "name": "ipython",
    "version": 3
   },
   "file_extension": ".py",
   "mimetype": "text/x-python",
   "name": "python",
   "nbconvert_exporter": "python",
   "pygments_lexer": "ipython3",
   "version": "3.10.8"
  }
 },
 "nbformat": 4,
 "nbformat_minor": 5
}
