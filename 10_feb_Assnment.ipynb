{
 "cells": [
  {
   "cell_type": "code",
   "execution_count": null,
   "id": "571046cc-6c8c-484c-911c-e4eb87abd298",
   "metadata": {},
   "outputs": [],
   "source": [
    "#Ans 1 : Opening a file and  Different modes of opening a file\n",
    "\"\"\" \n",
    "\n",
    "Open () function is used to open a file in python \n",
    "Two modes of opening a file in python \n",
    "The \" with \" statement and open() function are two of those statements and functions used for opening a file\n",
    "\n",
    "Method 1 : \n",
    "\n",
    "my_file = open(\"hello.txt\", \"r\")\n",
    "print(my_file.read())\n",
    "my_file.close()\n",
    "\n",
    "Method 2: \n",
    "\n",
    "with open(\"hello.txt\") as my_file:\n",
    "    print(my_file.read())\n",
    "    \n",
    "\"\"\""
   ]
  },
  {
   "cell_type": "code",
   "execution_count": null,
   "id": "94041e5f-848b-4562-a574-e07c675a64ef",
   "metadata": {},
   "outputs": [],
   "source": [
    "#Ans 2 : Close () function \n",
    "\"\"\"\n",
    "\n",
    "The open() function does not close the file, so we also have to close the file with the close() method.\n",
    "my_file = open(\"hello.txt\", \"r\")\n",
    "print(my_file.read())\n",
    "my_file.close()\n",
    "\n",
    "if we dont close the file due to buffering, changes made to a file may not show until you close the file.\n",
    "\n",
    "\"\"\""
   ]
  },
  {
   "cell_type": "code",
   "execution_count": 5,
   "id": "9f078eb4-99e9-460e-9952-35c5305040a8",
   "metadata": {},
   "outputs": [
    {
     "name": "stdout",
     "output_type": "stream",
     "text": [
      "I want to become a Data Scientist\n"
     ]
    }
   ],
   "source": [
    "# Ans 3 : \n",
    "\n",
    "\n",
    "with open(\"first_file.txt\", \"w\") as  a :\n",
    "    a.write(\"I want to become a Data Scientist\")\n",
    "    \n",
    "\n",
    "with open(\"first_file.txt\", \"r\") as a :\n",
    "    print(a.read())"
   ]
  },
  {
   "cell_type": "code",
   "execution_count": null,
   "id": "33fc478c-b2f7-413a-986e-1f50ce63e5d9",
   "metadata": {},
   "outputs": [],
   "source": [
    "# Ans 4 : \n",
    "\n",
    "\"\"\"\n",
    "read () metod gives complete information \n",
    "\n",
    "readline() method will return a line from the file when called.\n",
    "\n",
    "readlines() method will return all the lines in a file in the format of a list where each element is a line in the file.\n",
    "\n",
    "\"\"\""
   ]
  },
  {
   "cell_type": "code",
   "execution_count": null,
   "id": "fe86c16d-bb30-4a38-a502-a3891041caf3",
   "metadata": {},
   "outputs": [],
   "source": [
    "#Ans 5 : \n",
    "\n",
    "\"\"\"\n",
    "\n",
    "When we use with and open() statements together, the file closes by default and we need not call the close() function explicitly.\n",
    "\n",
    "\"\"\""
   ]
  },
  {
   "cell_type": "code",
   "execution_count": 2,
   "id": "51acebab-e26a-4446-a464-ad19514eb61d",
   "metadata": {},
   "outputs": [
    {
     "name": "stdout",
     "output_type": "stream",
     "text": [
      "This is write lines\n",
      " this is write\n"
     ]
    }
   ],
   "source": [
    "#Ans 6 : \n",
    "\n",
    "\"\"\"\n",
    "The write method takes text or byte object as an argument and appends it to the file.\n",
    "The write() method expects a string as an argument and writes it to the file. \n",
    "If we provide a list of strings, it will raise an exception. \n",
    "\n",
    "\n",
    "The writelines method takes a list of strings or bytes as an argument and appends it to the file depending on the file mode specified earlier.\n",
    "\n",
    "The writelines method writes data to file depending on the mode.  If the file mode is\"a\", \n",
    "then the texts will be inserted at the current file stream position, default at the end of the file. And if the file mode is\"w\",\n",
    "then the file will be emptied before the texts will be inserted at the current file stream position, default 0. \n",
    "\n",
    "It is important to note that writelines() do not automatically insert a new line after each item in the iterable. \n",
    "We have to provide a new line by ourselves. If we have many lines to write to a file, writelines() could be a better option. \n",
    "It performs well because it doesn’t create a temporary concatenated string, just iterating over the lines.\n",
    "\n",
    "\n",
    "\"\"\"\n",
    "\n",
    "\n",
    "line1 = \"This \"\n",
    "line2 = \"is \"\n",
    "line3 = \"write lines\"\n",
    "lines = line1, line2, line3\n",
    "\n",
    "with open('Test_file.txt', 'w') as file:\n",
    "       file.writelines(lines)\n",
    "\n",
    "f = open('Test_file.txt')\n",
    "\n",
    "print(f.read())\n",
    "\n",
    "\n",
    "line = \" this is write\"\n",
    "with open('Test2_file.txt', 'w') as file:\n",
    "   \n",
    "    file.write(line)\n",
    "w = open('Test2_file.txt')\n",
    "\n",
    "print(w.read())"
   ]
  }
 ],
 "metadata": {
  "kernelspec": {
   "display_name": "Python 3 (ipykernel)",
   "language": "python",
   "name": "python3"
  },
  "language_info": {
   "codemirror_mode": {
    "name": "ipython",
    "version": 3
   },
   "file_extension": ".py",
   "mimetype": "text/x-python",
   "name": "python",
   "nbconvert_exporter": "python",
   "pygments_lexer": "ipython3",
   "version": "3.10.8"
  }
 },
 "nbformat": 4,
 "nbformat_minor": 5
}
