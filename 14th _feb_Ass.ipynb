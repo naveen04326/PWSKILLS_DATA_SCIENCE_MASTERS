{
 "cells": [
  {
   "cell_type": "code",
   "execution_count": null,
   "id": "ecd9cf0a-8fa2-470e-842f-7d458445aa32",
   "metadata": {},
   "outputs": [],
   "source": [
    "# Ans 1 : \n",
    "\"\"\"\n",
    "Multithreading refers to concurrently executing multiple threads by rapidly switching the control of the CPU between threads.\n",
    "\n",
    "Multithreading allows the execution of multiple parts of a program at the same time.\n",
    "A a thread helps in an independent flow of execution.\n",
    "Threads often relate to lightweight processes and don’t need a lot of overhead memory. \n",
    "\n",
    "\n",
    "There are two main modules of multithreading used to handle threads in Python.\n",
    "\n",
    "The thread module\n",
    "The threading module\n",
    "\"\"\""
   ]
  },
  {
   "cell_type": "code",
   "execution_count": null,
   "id": "2ec1eace-5b17-4e0b-9fc6-c3d0c90db626",
   "metadata": {},
   "outputs": [],
   "source": [
    "# ANS 2 : Threading module and definitions\n",
    "\n",
    "\"\"\"\n",
    "Threading module uses : \n",
    "\n",
    "1. activeCount(): In Python, the method threading.active_co unt() from the threading module is used to count the currently active or running threads.\n",
    "\n",
    "2. currentThred(): current_thread() is an inbuilt method of the threading module in Python.\n",
    "It is used to return the current Thread object, which corresponds to the caller's thread of control.\n",
    "\n",
    "3. enumerate(): Enumerate() method adds a counter to an iterable and returns it in a form of enumerating object. \n",
    "This enumerated object can then be used directly for loops or converted into a list of tuples using the list() function.\n",
    "\n",
    "\"\"\"\n"
   ]
  },
  {
   "cell_type": "code",
   "execution_count": null,
   "id": "47ebf706-d342-437e-90aa-7d43adee4513",
   "metadata": {},
   "outputs": [],
   "source": [
    "# ANS 3  Definitions of functions\n",
    "\n",
    "\"\"\"\n",
    "\n",
    "1. run(): . This method is used to represent a thread's activity. It calls the method expressed as the target argument in the \n",
    "Thread object along with the positional and keyword arguments taken from the args and kwargs arguments, respectively.\n",
    "\n",
    "2. start(): Call the start() method of the Thread class to start the thread.\n",
    "\n",
    "3. join(): Call the join() method of the Thread class to wait for the thread to complete in the main thread.\n",
    "\n",
    "4. isAlive(): It uses a Thread object, and checks whether that thread is alive or not, ie, it is still running or not. \n",
    "\n",
    "\n",
    "\"\"\""
   ]
  },
  {
   "cell_type": "code",
   "execution_count": 6,
   "id": "95d20132-47bc-4e6f-8e17-b574cfc98720",
   "metadata": {},
   "outputs": [
    {
     "name": "stdout",
     "output_type": "stream",
     "text": [
      "\n",
      "2 ^ 2 = 4\n",
      "\n",
      "2 ^ 3 = 8\n",
      "\n",
      "3 ^ 2 = 9\n",
      "\n",
      "3 ^ 3 = 27\n",
      "\n",
      "5 ^ 2 = 25\n",
      "\n",
      "5 ^ 3 = 125\n",
      "\n",
      "8 ^ 2 = 64\n",
      "\n",
      "8 ^ 3 = 512\n",
      "\n",
      "16 ^ 2 = 256\n",
      "\n",
      "16 ^ 3 = 4096\n",
      "\n",
      "24 ^ 2 = 576\n",
      "\n",
      "24 ^ 3 = 13824\n"
     ]
    }
   ],
   "source": [
    "# ANS 4 : Square and cube of numbers\n",
    "\n",
    "import time\n",
    "import threading\n",
    "\n",
    "def calc_square(numbers):\n",
    "    for n in numbers:\n",
    "        print(f'\\n{n} ^ 2 = {n*n}')\n",
    "        time.sleep(0.1)\n",
    "\n",
    "def calc_cube(numbers):\n",
    "    for n in numbers:\n",
    "        print(f'\\n{n} ^ 3 = {n*n*n}')\n",
    "        time.sleep(0.1)\n",
    "\n",
    "numbers = [2, 3, 5, 8, 16 , 24]\n",
    "\n",
    "\n",
    "square_thread = threading.Thread(target=calc_square, args=(numbers,))\n",
    "cube_thread = threading.Thread(target=calc_cube, args=(numbers,))\n",
    "\n",
    "square_thread.start()\n",
    "cube_thread.start()\n",
    "\n",
    "square_thread.join()\n",
    "cube_thread.join()\n"
   ]
  },
  {
   "cell_type": "code",
   "execution_count": null,
   "id": "f12340a2-4921-4418-bd9e-3b0857e5034a",
   "metadata": {},
   "outputs": [],
   "source": [
    "# Ans 5 Advantages and Disadvantages of Multithreading \n",
    "\n",
    "\"\"\"\n",
    "\n",
    "Advantages : \n",
    "1) Python multithreading enables efficient utilization of the resources as the threads share the data space and memory.\n",
    "2) Multithreading in Python allows the concurrent and parallel occurrence of various tasks.\n",
    "3) It causes a reduction in time consumption or response time, thereby increasing the performance.\n",
    "\n",
    "Disadvanatages : \n",
    "creases the complexity of the program.\n",
    "Synchronization of shared resources (objects, data) is necessary.\n",
    "Difficult to debug unpredictable results\n",
    "Constructing and synchronizing threads is CPU/memory intensive.\n",
    "\n"
   ]
  },
  {
   "cell_type": "code",
   "execution_count": null,
   "id": "2b6363f3-a355-4d02-8d5e-1f37a2927dab",
   "metadata": {},
   "outputs": [],
   "source": [
    "# Ans 6 : \n",
    "\n",
    "\"\"\"\n",
    "1. DeadLocks : \n",
    "A deadlock occurs if two threads at the same time lock a different variable \n",
    "and then try to lock the variable already locked by the other thread. \n",
    "Each thread then stops running and waits to release the variable for the other thread. \n",
    "Since each thread holds the variable that the other thread requires, there is nothing happening, \n",
    "and the threads remain deadlocked. This type of error can cause programs to get stuck. \n",
    "\n",
    "\n",
    "2. Race Conditions : \n",
    "\n",
    "When two threads concurrently access a common variable, a race condition occurs. \n",
    "The variable is read in the first thread and the variable reads the same value in the second thread. \n",
    "Then the first and second threads work on the value, and they aim to see which thread will add the last value to the shared variable. \n",
    "The thread value is retained since the thread is written over the value that the previous thread wrote.  \n",
    "A data race occurs whenever two or more threads access shared data and try to change it simultaneously — without correct synchronization. \n",
    "This kind of mistake may cause crashes or corruption of memory. \n",
    "\n",
    "\"\"\""
   ]
  }
 ],
 "metadata": {
  "kernelspec": {
   "display_name": "Python 3 (ipykernel)",
   "language": "python",
   "name": "python3"
  },
  "language_info": {
   "codemirror_mode": {
    "name": "ipython",
    "version": 3
   },
   "file_extension": ".py",
   "mimetype": "text/x-python",
   "name": "python",
   "nbconvert_exporter": "python",
   "pygments_lexer": "ipython3",
   "version": "3.10.8"
  }
 },
 "nbformat": 4,
 "nbformat_minor": 5
}
